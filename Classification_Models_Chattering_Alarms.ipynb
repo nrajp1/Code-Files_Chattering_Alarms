{
 "cells": [
  {
   "cell_type": "code",
   "execution_count": 94,
   "id": "0ae7fce7-daa1-499f-8904-dcc8a3026dc3",
   "metadata": {
    "id": "0ae7fce7-daa1-499f-8904-dcc8a3026dc3"
   },
   "outputs": [],
   "source": [
    "from __future__ import absolute_import, division, print_function,unicode_literals\n",
    "import numpy as np\n",
    "import pandas as pd\n",
    "import seaborn as sns\n",
    "from IPython.display import clear_output\n",
    "from sklearn.metrics import roc_curve\n",
    "from sklearn.metrics import confusion_matrix\n",
    "from sklearn.metrics import precision_recall_curve\n",
    "from matplotlib import pyplot as plt\n",
    "import tensorflow as tf\n",
    "from matplotlib.ticker import (MultipleLocator)\n",
    "\n",
    "\n",
    "# Binary Classification with Sonar Dataset: Standardized Larger\n",
    "from pandas import read_csv\n",
    "from keras.models import Sequential\n",
    "from keras.layers import Dense\n",
    "from keras.wrappers.scikit_learn import KerasClassifier\n",
    "from sklearn.model_selection import cross_val_score\n",
    "from sklearn.preprocessing import LabelEncoder\n",
    "from sklearn.model_selection import StratifiedKFold\n",
    "from sklearn.preprocessing import StandardScaler\n",
    "from sklearn.pipeline import Pipeline"
   ]
  },
  {
   "cell_type": "code",
   "execution_count": 95,
   "id": "2bada36d-26a2-49ac-bef8-179833baed78",
   "metadata": {
    "colab": {
     "base_uri": "https://localhost:8080/"
    },
    "id": "2bada36d-26a2-49ac-bef8-179833baed78",
    "outputId": "dad524cc-8355-44c4-f659-250cf2f005c6"
   },
   "outputs": [
    {
     "name": "stdout",
     "output_type": "stream",
     "text": [
      "[name: \"/device:CPU:0\"\n",
      "device_type: \"CPU\"\n",
      "memory_limit: 268435456\n",
      "locality {\n",
      "}\n",
      "incarnation: 12198421289024639864\n",
      "xla_global_id: -1\n",
      "]\n"
     ]
    }
   ],
   "source": [
    "from tensorflow.python.client import device_lib\n",
    "print(device_lib.list_local_devices())"
   ]
  },
  {
   "cell_type": "code",
   "execution_count": 182,
   "id": "3a2906c5-c79e-4a58-b66c-98eb0359d196",
   "metadata": {
    "id": "3a2906c5-c79e-4a58-b66c-98eb0359d196"
   },
   "outputs": [],
   "source": [
    "df_final= pd.read_excel('/Users/neharajput/Downloads/Alarm_Data_Model.xlsx')"
   ]
  },
  {
   "cell_type": "code",
   "execution_count": 183,
   "id": "c96f0785-3fdb-4236-b389-c7d8b377fbcb",
   "metadata": {
    "colab": {
     "base_uri": "https://localhost:8080/",
     "height": 424
    },
    "id": "c96f0785-3fdb-4236-b389-c7d8b377fbcb",
    "outputId": "26fa121e-2f3a-4add-c38b-bbd8ae595cc0"
   },
   "outputs": [
    {
     "data": {
      "text/html": [
       "<div>\n",
       "<style scoped>\n",
       "    .dataframe tbody tr th:only-of-type {\n",
       "        vertical-align: middle;\n",
       "    }\n",
       "\n",
       "    .dataframe tbody tr th {\n",
       "        vertical-align: top;\n",
       "    }\n",
       "\n",
       "    .dataframe thead th {\n",
       "        text-align: right;\n",
       "    }\n",
       "</style>\n",
       "<table border=\"1\" class=\"dataframe\">\n",
       "  <thead>\n",
       "    <tr style=\"text-align: right;\">\n",
       "      <th></th>\n",
       "      <th>Date Timestamp</th>\n",
       "      <th>variable</th>\n",
       "      <th>Time_Diff</th>\n",
       "      <th>value</th>\n",
       "    </tr>\n",
       "  </thead>\n",
       "  <tbody>\n",
       "    <tr>\n",
       "      <th>0</th>\n",
       "      <td>2019-01-15 00:36:51</td>\n",
       "      <td>AAH-3030</td>\n",
       "      <td>1565</td>\n",
       "      <td>0.0</td>\n",
       "    </tr>\n",
       "    <tr>\n",
       "      <th>1</th>\n",
       "      <td>2019-03-29 23:33:12</td>\n",
       "      <td>AAH-3030</td>\n",
       "      <td>6031</td>\n",
       "      <td>0.0</td>\n",
       "    </tr>\n",
       "    <tr>\n",
       "      <th>2</th>\n",
       "      <td>2019-04-02 09:33:34</td>\n",
       "      <td>AAH-3030</td>\n",
       "      <td>86</td>\n",
       "      <td>0.0</td>\n",
       "    </tr>\n",
       "    <tr>\n",
       "      <th>3</th>\n",
       "      <td>2019-04-02 09:36:10</td>\n",
       "      <td>AAH-3030</td>\n",
       "      <td>1916</td>\n",
       "      <td>0.0</td>\n",
       "    </tr>\n",
       "    <tr>\n",
       "      <th>4</th>\n",
       "      <td>2019-04-02 15:05:50</td>\n",
       "      <td>AAH-3030</td>\n",
       "      <td>20</td>\n",
       "      <td>0.0</td>\n",
       "    </tr>\n",
       "    <tr>\n",
       "      <th>...</th>\n",
       "      <td>...</td>\n",
       "      <td>...</td>\n",
       "      <td>...</td>\n",
       "      <td>...</td>\n",
       "    </tr>\n",
       "    <tr>\n",
       "      <th>83683</th>\n",
       "      <td>2020-10-24 05:46:00</td>\n",
       "      <td>ZA-3502</td>\n",
       "      <td>14678</td>\n",
       "      <td>0.0</td>\n",
       "    </tr>\n",
       "    <tr>\n",
       "      <th>83684</th>\n",
       "      <td>2020-10-24 09:51:14</td>\n",
       "      <td>ZA-3502</td>\n",
       "      <td>3058</td>\n",
       "      <td>0.0</td>\n",
       "    </tr>\n",
       "    <tr>\n",
       "      <th>83685</th>\n",
       "      <td>2020-10-24 20:48:13</td>\n",
       "      <td>ZA-3502</td>\n",
       "      <td>9247</td>\n",
       "      <td>0.0</td>\n",
       "    </tr>\n",
       "    <tr>\n",
       "      <th>83686</th>\n",
       "      <td>2020-10-25 04:29:52</td>\n",
       "      <td>ZA-3502</td>\n",
       "      <td>14</td>\n",
       "      <td>0.0</td>\n",
       "    </tr>\n",
       "    <tr>\n",
       "      <th>83687</th>\n",
       "      <td>2020-10-25 04:40:37</td>\n",
       "      <td>ZA-3502</td>\n",
       "      <td>551</td>\n",
       "      <td>0.0</td>\n",
       "    </tr>\n",
       "  </tbody>\n",
       "</table>\n",
       "<p>83688 rows × 4 columns</p>\n",
       "</div>"
      ],
      "text/plain": [
       "           Date Timestamp  variable  Time_Diff  value\n",
       "0     2019-01-15 00:36:51  AAH-3030       1565    0.0\n",
       "1     2019-03-29 23:33:12  AAH-3030       6031    0.0\n",
       "2     2019-04-02 09:33:34  AAH-3030         86    0.0\n",
       "3     2019-04-02 09:36:10  AAH-3030       1916    0.0\n",
       "4     2019-04-02 15:05:50  AAH-3030         20    0.0\n",
       "...                   ...       ...        ...    ...\n",
       "83683 2020-10-24 05:46:00   ZA-3502      14678    0.0\n",
       "83684 2020-10-24 09:51:14   ZA-3502       3058    0.0\n",
       "83685 2020-10-24 20:48:13   ZA-3502       9247    0.0\n",
       "83686 2020-10-25 04:29:52   ZA-3502         14    0.0\n",
       "83687 2020-10-25 04:40:37   ZA-3502        551    0.0\n",
       "\n",
       "[83688 rows x 4 columns]"
      ]
     },
     "execution_count": 183,
     "metadata": {},
     "output_type": "execute_result"
    }
   ],
   "source": [
    "df_final"
   ]
  },
  {
   "cell_type": "code",
   "execution_count": 101,
   "id": "eccaae2b",
   "metadata": {
    "colab": {
     "base_uri": "https://localhost:8080/"
    },
    "id": "eccaae2b",
    "outputId": "53436fce-2128-441d-c435-a048447eefd1"
   },
   "outputs": [
    {
     "name": "stdout",
     "output_type": "stream",
     "text": [
      "<class 'pandas.core.frame.DataFrame'>\n",
      "RangeIndex: 83688 entries, 0 to 83687\n",
      "Data columns (total 4 columns):\n",
      " #   Column          Non-Null Count  Dtype         \n",
      "---  ------          --------------  -----         \n",
      " 0   Date Timestamp  83688 non-null  datetime64[ns]\n",
      " 1   variable        83688 non-null  object        \n",
      " 2   Time_Diff       83688 non-null  int64         \n",
      " 3   value           83688 non-null  float64       \n",
      "dtypes: datetime64[ns](1), float64(1), int64(1), object(1)\n",
      "memory usage: 2.6+ MB\n"
     ]
    }
   ],
   "source": [
    "df_final.info()"
   ]
  },
  {
   "cell_type": "markdown",
   "id": "4378fb4a",
   "metadata": {},
   "source": [
    "Renaming the column names of the dataframe"
   ]
  },
  {
   "cell_type": "code",
   "execution_count": 102,
   "id": "c47c06e0",
   "metadata": {
    "id": "c47c06e0"
   },
   "outputs": [],
   "source": [
    "df_final.rename(columns = {'variable':'SO'}, inplace = True)\n",
    "df_final.rename(columns = {'Time_Diff':'ATD'}, inplace = True)"
   ]
  },
  {
   "cell_type": "code",
   "execution_count": 103,
   "id": "79f5a139",
   "metadata": {
    "id": "79f5a139"
   },
   "outputs": [],
   "source": [
    "df_final['Date Timestamp']=df_final['Date Timestamp'].astype(str)"
   ]
  },
  {
   "cell_type": "markdown",
   "id": "61de445c",
   "metadata": {},
   "source": [
    "Splitting the date timestamp into Year, Month, Day, Hour, Minute and Seconds"
   ]
  },
  {
   "cell_type": "code",
   "execution_count": 104,
   "id": "4b76f954",
   "metadata": {
    "id": "4b76f954"
   },
   "outputs": [],
   "source": [
    "df1 = df_final['Date Timestamp'].str.split(expand=True)\n",
    "df1.columns = ['D','T']\n",
    "df_final = df_final.join(df1)"
   ]
  },
  {
   "cell_type": "code",
   "execution_count": 105,
   "id": "e806b457",
   "metadata": {
    "id": "e806b457"
   },
   "outputs": [],
   "source": [
    "df_final['D'] = pd.to_datetime(df_final['D'])"
   ]
  },
  {
   "cell_type": "code",
   "execution_count": 106,
   "id": "657f4dba",
   "metadata": {
    "id": "657f4dba"
   },
   "outputs": [],
   "source": [
    "df_final['day'] = df_final['D'].dt.day\n",
    "df_final['month'] = df_final['D'].dt.month\n",
    "df_final['year'] = df_final['D'].dt.year"
   ]
  },
  {
   "cell_type": "code",
   "execution_count": 107,
   "id": "1dce551f",
   "metadata": {
    "id": "1dce551f"
   },
   "outputs": [],
   "source": [
    "df_final['Date Timestamp'] = pd.to_datetime(df_final['Date Timestamp'])"
   ]
  },
  {
   "cell_type": "code",
   "execution_count": 108,
   "id": "db486138",
   "metadata": {
    "id": "db486138"
   },
   "outputs": [],
   "source": [
    "df_final['hour'] = df_final['Date Timestamp'].dt.hour\n",
    "df_final['minute'] = df_final['Date Timestamp'].dt.minute\n",
    "df_final['second'] = df_final['Date Timestamp'].dt.second"
   ]
  },
  {
   "cell_type": "code",
   "execution_count": 109,
   "id": "9030c4ce",
   "metadata": {
    "id": "9030c4ce"
   },
   "outputs": [],
   "source": [
    "df_final.drop(['Date Timestamp', 'D','T'], axis = 1,inplace=True)"
   ]
  },
  {
   "cell_type": "code",
   "execution_count": 110,
   "id": "a2199d27",
   "metadata": {
    "id": "a2199d27"
   },
   "outputs": [],
   "source": [
    "df_final.rename(columns = {'year':'Y','month':'M','day':'D','hour':'H','minute':'m',\n",
    "                           'second':'s','value':'CHB'}, inplace = True)"
   ]
  },
  {
   "cell_type": "code",
   "execution_count": 111,
   "id": "296afaa9-3b1b-40e7-a39d-9786ba678198",
   "metadata": {
    "id": "296afaa9-3b1b-40e7-a39d-9786ba678198"
   },
   "outputs": [],
   "source": [
    "df_final['Y']=df_final['Y'].astype(float)\n",
    "df_final['Y']=df_final['Y'].astype(float)\n",
    "df_final['D']=df_final['D'].astype(float)\n",
    "df_final['H']=df_final['H'].astype(float)\n",
    "df_final['m']=df_final['m'].astype(float)\n",
    "df_final['s']=df_final['s'].astype(float)\n",
    "df_final['ATD']=df_final['ATD'].astype(float)\n",
    "df_final['CHB']=df_final['CHB'].astype(float)"
   ]
  },
  {
   "cell_type": "markdown",
   "id": "615e861b",
   "metadata": {},
   "source": [
    "Dropping the year column as year will not re occur in the future."
   ]
  },
  {
   "cell_type": "code",
   "execution_count": 112,
   "id": "975e3819",
   "metadata": {},
   "outputs": [],
   "source": [
    "df_final.drop(['Y'], axis = 1,inplace=True)"
   ]
  },
  {
   "cell_type": "code",
   "execution_count": 113,
   "id": "74664a3b-e1a3-49bd-b196-4cf07f69a100",
   "metadata": {
    "colab": {
     "base_uri": "https://localhost:8080/",
     "height": 424
    },
    "id": "74664a3b-e1a3-49bd-b196-4cf07f69a100",
    "outputId": "cd8d1210-41df-401b-b252-7ed6729df2f1"
   },
   "outputs": [
    {
     "data": {
      "text/html": [
       "<div>\n",
       "<style scoped>\n",
       "    .dataframe tbody tr th:only-of-type {\n",
       "        vertical-align: middle;\n",
       "    }\n",
       "\n",
       "    .dataframe tbody tr th {\n",
       "        vertical-align: top;\n",
       "    }\n",
       "\n",
       "    .dataframe thead th {\n",
       "        text-align: right;\n",
       "    }\n",
       "</style>\n",
       "<table border=\"1\" class=\"dataframe\">\n",
       "  <thead>\n",
       "    <tr style=\"text-align: right;\">\n",
       "      <th></th>\n",
       "      <th>SO</th>\n",
       "      <th>ATD</th>\n",
       "      <th>CHB</th>\n",
       "      <th>D</th>\n",
       "      <th>M</th>\n",
       "      <th>H</th>\n",
       "      <th>m</th>\n",
       "      <th>s</th>\n",
       "    </tr>\n",
       "  </thead>\n",
       "  <tbody>\n",
       "    <tr>\n",
       "      <th>0</th>\n",
       "      <td>AAH-3030</td>\n",
       "      <td>1565.0</td>\n",
       "      <td>0.0</td>\n",
       "      <td>15.0</td>\n",
       "      <td>1</td>\n",
       "      <td>0.0</td>\n",
       "      <td>36.0</td>\n",
       "      <td>51.0</td>\n",
       "    </tr>\n",
       "    <tr>\n",
       "      <th>1</th>\n",
       "      <td>AAH-3030</td>\n",
       "      <td>6031.0</td>\n",
       "      <td>0.0</td>\n",
       "      <td>29.0</td>\n",
       "      <td>3</td>\n",
       "      <td>23.0</td>\n",
       "      <td>33.0</td>\n",
       "      <td>12.0</td>\n",
       "    </tr>\n",
       "    <tr>\n",
       "      <th>2</th>\n",
       "      <td>AAH-3030</td>\n",
       "      <td>86.0</td>\n",
       "      <td>0.0</td>\n",
       "      <td>2.0</td>\n",
       "      <td>4</td>\n",
       "      <td>9.0</td>\n",
       "      <td>33.0</td>\n",
       "      <td>34.0</td>\n",
       "    </tr>\n",
       "    <tr>\n",
       "      <th>3</th>\n",
       "      <td>AAH-3030</td>\n",
       "      <td>1916.0</td>\n",
       "      <td>0.0</td>\n",
       "      <td>2.0</td>\n",
       "      <td>4</td>\n",
       "      <td>9.0</td>\n",
       "      <td>36.0</td>\n",
       "      <td>10.0</td>\n",
       "    </tr>\n",
       "    <tr>\n",
       "      <th>4</th>\n",
       "      <td>AAH-3030</td>\n",
       "      <td>20.0</td>\n",
       "      <td>0.0</td>\n",
       "      <td>2.0</td>\n",
       "      <td>4</td>\n",
       "      <td>15.0</td>\n",
       "      <td>5.0</td>\n",
       "      <td>50.0</td>\n",
       "    </tr>\n",
       "    <tr>\n",
       "      <th>...</th>\n",
       "      <td>...</td>\n",
       "      <td>...</td>\n",
       "      <td>...</td>\n",
       "      <td>...</td>\n",
       "      <td>...</td>\n",
       "      <td>...</td>\n",
       "      <td>...</td>\n",
       "      <td>...</td>\n",
       "    </tr>\n",
       "    <tr>\n",
       "      <th>83683</th>\n",
       "      <td>ZA-3502</td>\n",
       "      <td>14678.0</td>\n",
       "      <td>0.0</td>\n",
       "      <td>24.0</td>\n",
       "      <td>10</td>\n",
       "      <td>5.0</td>\n",
       "      <td>46.0</td>\n",
       "      <td>0.0</td>\n",
       "    </tr>\n",
       "    <tr>\n",
       "      <th>83684</th>\n",
       "      <td>ZA-3502</td>\n",
       "      <td>3058.0</td>\n",
       "      <td>0.0</td>\n",
       "      <td>24.0</td>\n",
       "      <td>10</td>\n",
       "      <td>9.0</td>\n",
       "      <td>51.0</td>\n",
       "      <td>14.0</td>\n",
       "    </tr>\n",
       "    <tr>\n",
       "      <th>83685</th>\n",
       "      <td>ZA-3502</td>\n",
       "      <td>9247.0</td>\n",
       "      <td>0.0</td>\n",
       "      <td>24.0</td>\n",
       "      <td>10</td>\n",
       "      <td>20.0</td>\n",
       "      <td>48.0</td>\n",
       "      <td>13.0</td>\n",
       "    </tr>\n",
       "    <tr>\n",
       "      <th>83686</th>\n",
       "      <td>ZA-3502</td>\n",
       "      <td>14.0</td>\n",
       "      <td>0.0</td>\n",
       "      <td>25.0</td>\n",
       "      <td>10</td>\n",
       "      <td>4.0</td>\n",
       "      <td>29.0</td>\n",
       "      <td>52.0</td>\n",
       "    </tr>\n",
       "    <tr>\n",
       "      <th>83687</th>\n",
       "      <td>ZA-3502</td>\n",
       "      <td>551.0</td>\n",
       "      <td>0.0</td>\n",
       "      <td>25.0</td>\n",
       "      <td>10</td>\n",
       "      <td>4.0</td>\n",
       "      <td>40.0</td>\n",
       "      <td>37.0</td>\n",
       "    </tr>\n",
       "  </tbody>\n",
       "</table>\n",
       "<p>83688 rows × 8 columns</p>\n",
       "</div>"
      ],
      "text/plain": [
       "             SO      ATD  CHB     D   M     H     m     s\n",
       "0      AAH-3030   1565.0  0.0  15.0   1   0.0  36.0  51.0\n",
       "1      AAH-3030   6031.0  0.0  29.0   3  23.0  33.0  12.0\n",
       "2      AAH-3030     86.0  0.0   2.0   4   9.0  33.0  34.0\n",
       "3      AAH-3030   1916.0  0.0   2.0   4   9.0  36.0  10.0\n",
       "4      AAH-3030     20.0  0.0   2.0   4  15.0   5.0  50.0\n",
       "...         ...      ...  ...   ...  ..   ...   ...   ...\n",
       "83683   ZA-3502  14678.0  0.0  24.0  10   5.0  46.0   0.0\n",
       "83684   ZA-3502   3058.0  0.0  24.0  10   9.0  51.0  14.0\n",
       "83685   ZA-3502   9247.0  0.0  24.0  10  20.0  48.0  13.0\n",
       "83686   ZA-3502     14.0  0.0  25.0  10   4.0  29.0  52.0\n",
       "83687   ZA-3502    551.0  0.0  25.0  10   4.0  40.0  37.0\n",
       "\n",
       "[83688 rows x 8 columns]"
      ]
     },
     "execution_count": 113,
     "metadata": {},
     "output_type": "execute_result"
    }
   ],
   "source": [
    "df_final"
   ]
  },
  {
   "cell_type": "markdown",
   "id": "69990b99",
   "metadata": {},
   "source": [
    "Adding the unit variable and assigning the units as per the alarm tag, for example, assigning Degree Celsius to all temperature alarm tags"
   ]
  },
  {
   "cell_type": "code",
   "execution_count": 114,
   "id": "e934e9ac",
   "metadata": {
    "id": "e934e9ac"
   },
   "outputs": [],
   "source": [
    "result = []\n",
    "for value in df_final['SO']:\n",
    "    if value.startswith('PA') or value.startswith('PD') or value.startswith('PM'):\n",
    "        result.append(\"kPag\")\n",
    "    elif value.startswith('TA'):\n",
    "        result.append(\"Deg C\")\n",
    "    elif value.startswith('FA') or value.startswith('FA'):\n",
    "        result.append(\"m3/h\")\n",
    "    elif value.startswith('LA') or value.startswith('LI') or value.startswith('LD'):\n",
    "        result.append(\"mm\")\n",
    "    elif value.startswith('VA'):\n",
    "        result.append(\"mm/s\")\n",
    "    elif value.startswith('AAH-3030') or value.startswith('AAHH-3030') or value.startswith('AAH-3040') or value.startswith('AAHH-3040'):\n",
    "        result.append(\"ms\")\n",
    "    elif value.startswith('AAH-3032') or value.startswith('AAHH-3032') or value.startswith('AAH-3042') or value.startswith('AAHH-3042'):\n",
    "        result.append(\"NTU\")\n",
    "    else:\n",
    "        result.append(\"-\")\n",
    "df_final['UNI'] = result"
   ]
  },
  {
   "cell_type": "code",
   "execution_count": 115,
   "id": "7717175f",
   "metadata": {
    "id": "7717175f"
   },
   "outputs": [],
   "source": [
    "from __future__ import absolute_import, division, print_function,unicode_literals\n",
    "import numpy as np\n",
    "import pandas as pd\n",
    "import seaborn as sns\n",
    "from IPython.display import clear_output\n",
    "from sklearn.metrics import roc_curve\n",
    "from sklearn.metrics import confusion_matrix\n",
    "from sklearn.metrics import precision_recall_curve\n",
    "from matplotlib import pyplot as plt\n",
    "import tensorflow as tf\n",
    "from matplotlib.ticker import (MultipleLocator)\n",
    "\n",
    "\n",
    "# Binary Classification with Sonar Dataset: Standardized Larger\n",
    "from pandas import read_csv\n",
    "from keras.models import Sequential\n",
    "from keras.layers import Dense\n",
    "from keras.wrappers.scikit_learn import KerasClassifier\n",
    "from sklearn.model_selection import cross_val_score\n",
    "from sklearn.preprocessing import LabelEncoder\n",
    "from sklearn.model_selection import StratifiedKFold\n",
    "from sklearn.preprocessing import StandardScaler\n",
    "from sklearn.pipeline import Pipeline"
   ]
  },
  {
   "cell_type": "code",
   "execution_count": 116,
   "id": "8ecaa77f-2719-4a17-b6ad-4c27a1c54e39",
   "metadata": {
    "id": "8ecaa77f-2719-4a17-b6ad-4c27a1c54e39"
   },
   "outputs": [],
   "source": [
    "from sklearn.preprocessing import LabelEncoder\n",
    "import numpy as np\n",
    "\n",
    "#code = np.array(df_train.SO)\n",
    "\n",
    "label_encoder = LabelEncoder()\n",
    "vec = label_encoder.fit_transform(df_final.SO)\n",
    "df_final.SO= pd.DataFrame(vec)\n",
    "label_encoder1 = LabelEncoder()\n",
    "vec = label_encoder1.fit_transform(df_final.UNI)\n",
    "df_final.UNI= pd.DataFrame(vec)"
   ]
  },
  {
   "cell_type": "code",
   "execution_count": 117,
   "id": "2610896a",
   "metadata": {},
   "outputs": [],
   "source": [
    "df_train_test= df_final.copy()"
   ]
  },
  {
   "cell_type": "markdown",
   "id": "fe39bd82",
   "metadata": {},
   "source": [
    "Splitting the dataset into train and test"
   ]
  },
  {
   "cell_type": "code",
   "execution_count": 118,
   "id": "d2ed44bd-13fb-4de1-b7a1-fabbdb7335d8",
   "metadata": {
    "id": "d2ed44bd-13fb-4de1-b7a1-fabbdb7335d8"
   },
   "outputs": [],
   "source": [
    "from sklearn.model_selection import train_test_split\n",
    "\n",
    "df_train, df_test = train_test_split(df_train_test, test_size=0.2)"
   ]
  },
  {
   "cell_type": "code",
   "execution_count": 119,
   "id": "510737c6-c922-41eb-b05b-9e665b72cd71",
   "metadata": {
    "id": "510737c6-c922-41eb-b05b-9e665b72cd71"
   },
   "outputs": [],
   "source": [
    "df_train.reset_index(inplace=True,drop=True)\n",
    "df_test.reset_index(inplace=True,drop=True)"
   ]
  },
  {
   "cell_type": "markdown",
   "id": "0f10bb70",
   "metadata": {},
   "source": [
    "CHB is the target variable, taking out the target variable from train and test both and assigning it to y_train and y_eval dataframe"
   ]
  },
  {
   "cell_type": "code",
   "execution_count": 120,
   "id": "64e11797-d2fa-4e04-93f4-5cfd98d2939f",
   "metadata": {
    "id": "64e11797-d2fa-4e04-93f4-5cfd98d2939f"
   },
   "outputs": [],
   "source": [
    "y_train = df_train.pop('CHB')\n",
    "y_eval = df_test.pop('CHB')"
   ]
  },
  {
   "cell_type": "code",
   "execution_count": 121,
   "id": "5f81b95a-0311-4a5e-b499-c4a041616fd6",
   "metadata": {
    "id": "5f81b95a-0311-4a5e-b499-c4a041616fd6"
   },
   "outputs": [],
   "source": [
    "dataset_test = df_test.values"
   ]
  },
  {
   "cell_type": "code",
   "execution_count": 122,
   "id": "47ad6ee9-b3c6-4f46-ba67-68c14991bad8",
   "metadata": {
    "id": "47ad6ee9-b3c6-4f46-ba67-68c14991bad8"
   },
   "outputs": [],
   "source": [
    "dataset_train = df_train.values"
   ]
  },
  {
   "cell_type": "code",
   "execution_count": 123,
   "id": "afa965d8-b284-439a-9eaa-1f8827e2d5a6",
   "metadata": {
    "colab": {
     "base_uri": "https://localhost:8080/"
    },
    "id": "afa965d8-b284-439a-9eaa-1f8827e2d5a6",
    "outputId": "6cb363e5-3360-4d55-c782-87111c73ca10"
   },
   "outputs": [
    {
     "data": {
      "text/plain": [
       "array([[6.400e+01, 2.680e+03, 2.500e+01, ..., 1.000e+00, 4.000e+01,\n",
       "        4.000e+00],\n",
       "       [9.700e+01, 5.670e+02, 6.000e+00, ..., 5.800e+01, 5.100e+01,\n",
       "        0.000e+00],\n",
       "       [1.940e+02, 1.738e+03, 1.600e+01, ..., 2.700e+01, 5.800e+01,\n",
       "        5.000e+00],\n",
       "       ...,\n",
       "       [1.330e+02, 1.190e+02, 1.300e+01, ..., 3.000e+00, 1.500e+01,\n",
       "        5.000e+00],\n",
       "       [1.820e+02, 8.000e+00, 2.300e+01, ..., 4.000e+01, 7.000e+00,\n",
       "        5.000e+00],\n",
       "       [6.300e+01, 9.550e+02, 1.500e+01, ..., 0.000e+00, 1.800e+01,\n",
       "        4.000e+00]])"
      ]
     },
     "execution_count": 123,
     "metadata": {},
     "output_type": "execute_result"
    }
   ],
   "source": [
    "dataset_train"
   ]
  },
  {
   "cell_type": "code",
   "execution_count": 124,
   "id": "11691d37-ba6b-434a-9f45-75e5c205777b",
   "metadata": {
    "id": "11691d37-ba6b-434a-9f45-75e5c205777b"
   },
   "outputs": [],
   "source": [
    "CATEGORICAL_COLUMNS = ['SO','UNI']\n",
    "NUMERIC_COLUMNS = ['Y', 'M', 'D', 'H', 'm', 's', 'ATD']\n",
    "\n",
    "feature_columns = []\n",
    "categorical_feature = [] \n",
    "# categorical, must be mapped into dense\n",
    "for feature_name in CATEGORICAL_COLUMNS:\n",
    "    vocabulary = df_train[feature_name].unique()\n",
    "    categorical_feature.append(tf.feature_column.categorical_column_with_vocabulary_list(feature_name,vocabulary))"
   ]
  },
  {
   "cell_type": "code",
   "execution_count": 125,
   "id": "37685f27-62fd-4d96-9a0e-6e9d123b0e20",
   "metadata": {
    "id": "37685f27-62fd-4d96-9a0e-6e9d123b0e20"
   },
   "outputs": [],
   "source": [
    "for cat_col in categorical_feature:\n",
    "    feature_columns.append(tf.feature_column.indicator_column(cat_col))\n",
    "    \n",
    "for feature_name in NUMERIC_COLUMNS:\n",
    "    feature_columns.append(tf.feature_column.numeric_column(feature_name,dtype=tf.float64))"
   ]
  },
  {
   "cell_type": "code",
   "execution_count": 126,
   "id": "000cb3f7-e380-4f01-bcb1-11351302097c",
   "metadata": {
    "id": "000cb3f7-e380-4f01-bcb1-11351302097c"
   },
   "outputs": [],
   "source": [
    "encoder = LabelEncoder()\n",
    "encoder.fit(y_train)\n",
    "encoded_Y = encoder.transform(y_train)"
   ]
  },
  {
   "cell_type": "code",
   "execution_count": 127,
   "id": "869582d7-93b8-4967-821d-db081953bdb3",
   "metadata": {
    "id": "869582d7-93b8-4967-821d-db081953bdb3"
   },
   "outputs": [],
   "source": [
    "from sklearn.metrics import classification_report\n",
    "def confusion_matrix_fnc(y,y_pred):\n",
    "\n",
    "    cm = confusion_matrix(y, y_pred)\n",
    "\n",
    "    print('Confusion matrix\\n\\n', cm)\n",
    "\n",
    "    print('\\nTrue Positives(TP) = ', cm[0,0])\n",
    "\n",
    "    print('\\nTrue Negatives(TN) = ', cm[1,1])\n",
    "\n",
    "    print('\\nFalse Positives(FP) = ', cm[0,1])\n",
    "\n",
    "    print('\\nFalse Negatives(FN) = ', cm[1,0])\n",
    "\n",
    "    cm_matrix = pd.DataFrame(data=cm, columns=['Actual Negative:0', 'Actual Positive:1'], \n",
    "                                     index=['Predict Negative:0', 'Predict Positive:1'])\n",
    "\n",
    "    sns.heatmap(cm_matrix, annot=True, fmt='d', cmap='YlGnBu')\n",
    "\n",
    "    print(classification_report(y, y_pred))"
   ]
  },
  {
   "cell_type": "code",
   "execution_count": 128,
   "id": "cedc69ba",
   "metadata": {
    "id": "cedc69ba"
   },
   "outputs": [],
   "source": [
    "X_train=dataset_train\n",
    "X_test=dataset_test"
   ]
  },
  {
   "cell_type": "markdown",
   "id": "f57b334e-37d6-4d7c-abe3-6c358f6c0eb6",
   "metadata": {
    "id": "f57b334e-37d6-4d7c-abe3-6c358f6c0eb6"
   },
   "source": [
    "# Model 1 : Logistic Regression\n"
   ]
  },
  {
   "cell_type": "code",
   "execution_count": 129,
   "id": "83383eee-1ca8-4ba3-91d9-71bf0fb72568",
   "metadata": {
    "colab": {
     "base_uri": "https://localhost:8080/"
    },
    "id": "83383eee-1ca8-4ba3-91d9-71bf0fb72568",
    "outputId": "363f89cf-6849-48a0-d8f6-f99de473a72d"
   },
   "outputs": [
    {
     "data": {
      "text/plain": [
       "LogisticRegression(max_iter=1000, random_state=1234)"
      ]
     },
     "execution_count": 129,
     "metadata": {},
     "output_type": "execute_result"
    }
   ],
   "source": [
    "# train a logistic regression model on the training set\n",
    "from sklearn.linear_model import LogisticRegression\n",
    "\n",
    "\n",
    "# instantiate the model\n",
    "logreg = LogisticRegression( solver='lbfgs', max_iter=1000,random_state=1234)\n",
    "\n",
    "\n",
    "# fit the model\n",
    "logreg.fit(X_train, y_train)"
   ]
  },
  {
   "cell_type": "code",
   "execution_count": 130,
   "id": "006fdfc3-6183-4aa9-8b68-e592640710bb",
   "metadata": {
    "id": "006fdfc3-6183-4aa9-8b68-e592640710bb"
   },
   "outputs": [],
   "source": [
    "y_pred_test = logreg.predict(X_test)"
   ]
  },
  {
   "cell_type": "code",
   "execution_count": 131,
   "id": "aaca777d-cc5a-4d7c-8e1a-5c3d314148d2",
   "metadata": {
    "colab": {
     "base_uri": "https://localhost:8080/"
    },
    "id": "aaca777d-cc5a-4d7c-8e1a-5c3d314148d2",
    "outputId": "f81354dd-2d87-4a5b-92f8-b6ef6316f73e"
   },
   "outputs": [
    {
     "name": "stdout",
     "output_type": "stream",
     "text": [
      "Model accuracy score: 0.8270\n"
     ]
    }
   ],
   "source": [
    "from sklearn.metrics import accuracy_score\n",
    "\n",
    "print('Model accuracy score: {0:0.4f}'. format(accuracy_score(y_eval, y_pred_test)))"
   ]
  },
  {
   "cell_type": "code",
   "execution_count": 132,
   "id": "b9daf37f-356b-404d-90d8-fb4577868a63",
   "metadata": {
    "colab": {
     "base_uri": "https://localhost:8080/"
    },
    "id": "b9daf37f-356b-404d-90d8-fb4577868a63",
    "outputId": "5a2dc2ca-81fe-4f9d-b2d2-405ead820407"
   },
   "outputs": [
    {
     "name": "stdout",
     "output_type": "stream",
     "text": [
      "Training-set accuracy score: 0.8334\n"
     ]
    }
   ],
   "source": [
    "y_pred_train = logreg.predict(X_train)\n",
    "print('Training-set accuracy score: {0:0.4f}'. format(accuracy_score(y_train, y_pred_train)))"
   ]
  },
  {
   "cell_type": "code",
   "execution_count": 133,
   "id": "0299d1fa-068b-4b12-a9f6-9f2b654b0d32",
   "metadata": {
    "colab": {
     "base_uri": "https://localhost:8080/",
     "height": 629
    },
    "id": "0299d1fa-068b-4b12-a9f6-9f2b654b0d32",
    "outputId": "e657bac2-a224-4631-9221-56614d557280"
   },
   "outputs": [
    {
     "name": "stdout",
     "output_type": "stream",
     "text": [
      "Confusion matrix\n",
      "\n",
      " [[13788    83]\n",
      " [ 2812    55]]\n",
      "\n",
      "True Positives(TP) =  13788\n",
      "\n",
      "True Negatives(TN) =  55\n",
      "\n",
      "False Positives(FP) =  83\n",
      "\n",
      "False Negatives(FN) =  2812\n",
      "              precision    recall  f1-score   support\n",
      "\n",
      "         0.0       0.83      0.99      0.90     13871\n",
      "         1.0       0.40      0.02      0.04      2867\n",
      "\n",
      "    accuracy                           0.83     16738\n",
      "   macro avg       0.61      0.51      0.47     16738\n",
      "weighted avg       0.76      0.83      0.76     16738\n",
      "\n"
     ]
    },
    {
     "data": {
      "image/png": "[encoded data removed]",
      "text/plain": [
       "<Figure size 432x288 with 2 Axes>"
      ]
     },
     "metadata": {
      "needs_background": "light"
     },
     "output_type": "display_data"
    }
   ],
   "source": [
    "confusion_matrix_fnc(y_eval,y_pred_test)"
   ]
  },
  {
   "cell_type": "markdown",
   "id": "56e884a9",
   "metadata": {},
   "source": [
    "For Test:\n",
    "Precision: 40%\n",
    "Recall: 2%"
   ]
  },
  {
   "cell_type": "code",
   "execution_count": 134,
   "id": "789489fa-11d1-42f6-8a9c-fc3ed514265d",
   "metadata": {
    "colab": {
     "base_uri": "https://localhost:8080/",
     "height": 629
    },
    "id": "789489fa-11d1-42f6-8a9c-fc3ed514265d",
    "outputId": "da0ba29a-f10e-40e5-93be-ff52619aceb0"
   },
   "outputs": [
    {
     "name": "stdout",
     "output_type": "stream",
     "text": [
      "Confusion matrix\n",
      "\n",
      " [[55591   335]\n",
      " [10819   205]]\n",
      "\n",
      "True Positives(TP) =  55591\n",
      "\n",
      "True Negatives(TN) =  205\n",
      "\n",
      "False Positives(FP) =  335\n",
      "\n",
      "False Negatives(FN) =  10819\n",
      "              precision    recall  f1-score   support\n",
      "\n",
      "         0.0       0.84      0.99      0.91     55926\n",
      "         1.0       0.38      0.02      0.04     11024\n",
      "\n",
      "    accuracy                           0.83     66950\n",
      "   macro avg       0.61      0.51      0.47     66950\n",
      "weighted avg       0.76      0.83      0.77     66950\n",
      "\n"
     ]
    },
    {
     "data": {
      "image/png": "[encoded data removed]",
      "text/plain": [
       "<Figure size 432x288 with 2 Axes>"
      ]
     },
     "metadata": {
      "needs_background": "light"
     },
     "output_type": "display_data"
    }
   ],
   "source": [
    "confusion_matrix_fnc(y_train,y_pred_train)"
   ]
  },
  {
   "cell_type": "markdown",
   "id": "5b7be930",
   "metadata": {},
   "source": [
    "For Train:\n",
    "Precision: 38%\n",
    "Recall: 2%"
   ]
  },
  {
   "cell_type": "markdown",
   "id": "a45d97c9",
   "metadata": {},
   "source": [
    "Applying SMOTE as it seems to be an imbalanced dataset and see if precision and recall improves"
   ]
  },
  {
   "cell_type": "markdown",
   "id": "642bcd9a",
   "metadata": {},
   "source": [
    "# Model 2: Logistic Regression with SMOTE"
   ]
  },
  {
   "cell_type": "code",
   "execution_count": 135,
   "id": "d4bf83e7",
   "metadata": {},
   "outputs": [
    {
     "name": "stdout",
     "output_type": "stream",
     "text": [
      "Before OverSampling, counts of label '1': 11024\n",
      "Before OverSampling, counts of label '0': 55926 \n",
      "\n",
      "After OverSampling, the shape of train_X: (111852, 8)\n",
      "After OverSampling, the shape of train_y: (111852,) \n",
      "\n",
      "After OverSampling, counts of label '1': 55926\n",
      "After OverSampling, counts of label '0': 55926\n"
     ]
    }
   ],
   "source": [
    "print(\"Before OverSampling, counts of label '1': {}\".format(sum(y_train == 1)))\n",
    "print(\"Before OverSampling, counts of label '0': {} \\n\".format(sum(y_train == 0)))\n",
    "  \n",
    "\n",
    "from imblearn.over_sampling import SMOTE\n",
    "sm = SMOTE(random_state = 2)\n",
    "X_train_res, y_train_res = sm.fit_resample(X_train, y_train.ravel())\n",
    "  \n",
    "print('After OverSampling, the shape of train_X: {}'.format(X_train_res.shape))\n",
    "print('After OverSampling, the shape of train_y: {} \\n'.format(y_train_res.shape))\n",
    "  \n",
    "print(\"After OverSampling, counts of label '1': {}\".format(sum(y_train_res == 1)))\n",
    "print(\"After OverSampling, counts of label '0': {}\".format(sum(y_train_res == 0)))"
   ]
  },
  {
   "cell_type": "code",
   "execution_count": 136,
   "id": "964ab2ca",
   "metadata": {},
   "outputs": [
    {
     "data": {
      "text/plain": [
       "LogisticRegression(max_iter=1000, random_state=1234)"
      ]
     },
     "execution_count": 136,
     "metadata": {},
     "output_type": "execute_result"
    }
   ],
   "source": [
    "# instantiate the model\n",
    "logreg_smote = LogisticRegression(  max_iter=1000,random_state=1234)\n",
    "\n",
    "\n",
    "# fit the model\n",
    "logreg_smote.fit(X_train_res, y_train_res)"
   ]
  },
  {
   "cell_type": "code",
   "execution_count": 137,
   "id": "ee72d456",
   "metadata": {},
   "outputs": [
    {
     "name": "stdout",
     "output_type": "stream",
     "text": [
      "Model accuracy score: 0.6535\n"
     ]
    }
   ],
   "source": [
    "y_pred_test_res = logreg_smote.predict(X_test)\n",
    "print('Model accuracy score: {0:0.4f}'. format(accuracy_score(y_eval, y_pred_test_res)))"
   ]
  },
  {
   "cell_type": "code",
   "execution_count": 138,
   "id": "ccca31c2",
   "metadata": {},
   "outputs": [
    {
     "name": "stdout",
     "output_type": "stream",
     "text": [
      "Training-set accuracy score: 0.7620\n"
     ]
    }
   ],
   "source": [
    "y_pred_train_res = logreg_smote.predict(X_train_res)\n",
    "print('Training-set accuracy score: {0:0.4f}'. format(accuracy_score(y_train_res, y_pred_train_res)))"
   ]
  },
  {
   "cell_type": "code",
   "execution_count": 139,
   "id": "a57947a0",
   "metadata": {},
   "outputs": [
    {
     "name": "stdout",
     "output_type": "stream",
     "text": [
      "Confusion matrix\n",
      "\n",
      " [[8255 5616]\n",
      " [ 184 2683]]\n",
      "\n",
      "True Positives(TP) =  8255\n",
      "\n",
      "True Negatives(TN) =  2683\n",
      "\n",
      "False Positives(FP) =  5616\n",
      "\n",
      "False Negatives(FN) =  184\n",
      "              precision    recall  f1-score   support\n",
      "\n",
      "         0.0       0.98      0.60      0.74     13871\n",
      "         1.0       0.32      0.94      0.48      2867\n",
      "\n",
      "    accuracy                           0.65     16738\n",
      "   macro avg       0.65      0.77      0.61     16738\n",
      "weighted avg       0.87      0.65      0.70     16738\n",
      "\n"
     ]
    },
    {
     "data": {
      "image/png": "[encoded data removed]",
      "text/plain": [
       "<Figure size 432x288 with 2 Axes>"
      ]
     },
     "metadata": {
      "needs_background": "light"
     },
     "output_type": "display_data"
    }
   ],
   "source": [
    "confusion_matrix_fnc(y_eval,y_pred_test_res)"
   ]
  },
  {
   "cell_type": "markdown",
   "id": "5a2da97a",
   "metadata": {},
   "source": [
    "For Test:\n",
    "Precision: 32%\n",
    "Recall: 94%"
   ]
  },
  {
   "cell_type": "markdown",
   "id": "c635b8bf",
   "metadata": {},
   "source": [
    "Since there is a trade off between precision and recall, Recall is drastically improved from 2% to 94% but precision is dropped from 38% to 32%"
   ]
  },
  {
   "cell_type": "code",
   "execution_count": 140,
   "id": "f91ffe3d",
   "metadata": {},
   "outputs": [
    {
     "name": "stdout",
     "output_type": "stream",
     "text": [
      "Confusion matrix\n",
      "\n",
      " [[32967 22959]\n",
      " [ 3665 52261]]\n",
      "\n",
      "True Positives(TP) =  32967\n",
      "\n",
      "True Negatives(TN) =  52261\n",
      "\n",
      "False Positives(FP) =  22959\n",
      "\n",
      "False Negatives(FN) =  3665\n",
      "              precision    recall  f1-score   support\n",
      "\n",
      "         0.0       0.90      0.59      0.71     55926\n",
      "         1.0       0.69      0.93      0.80     55926\n",
      "\n",
      "    accuracy                           0.76    111852\n",
      "   macro avg       0.80      0.76      0.75    111852\n",
      "weighted avg       0.80      0.76      0.75    111852\n",
      "\n"
     ]
    },
    {
     "data": {
      "image/png": "[encoded data removed]",
      "text/plain": [
       "<Figure size 432x288 with 2 Axes>"
      ]
     },
     "metadata": {
      "needs_background": "light"
     },
     "output_type": "display_data"
    }
   ],
   "source": [
    "confusion_matrix_fnc(y_train_res, y_pred_train_res)"
   ]
  },
  {
   "cell_type": "markdown",
   "id": "ff8e934d",
   "metadata": {},
   "source": [
    "For Train: Precision: 69% \n",
    "Recall: 93%"
   ]
  },
  {
   "cell_type": "markdown",
   "id": "cd8kpZx7vX7W",
   "metadata": {
    "id": "cd8kpZx7vX7W"
   },
   "source": [
    "# Tuning Logistic Regression model\n",
    "\n",
    "\n"
   ]
  },
  {
   "cell_type": "markdown",
   "id": "182856af",
   "metadata": {},
   "source": [
    "Tuning the hyper parameters to see if model's accuracy is affected with L2 Regularization"
   ]
  },
  {
   "cell_type": "code",
   "execution_count": 141,
   "id": "oQBqTLrHveMw",
   "metadata": {
    "id": "oQBqTLrHveMw"
   },
   "outputs": [],
   "source": [
    "\n",
    "from sklearn.model_selection import RepeatedStratifiedKFold\n",
    "from sklearn.model_selection import GridSearchCV"
   ]
  },
  {
   "cell_type": "code",
   "execution_count": 142,
   "id": "fYAFfNObvjzi",
   "metadata": {
    "id": "fYAFfNObvjzi",
    "scrolled": true
   },
   "outputs": [],
   "source": [
    "lr_tuned = LogisticRegression()\n",
    "solvers = ['newton-cg', 'lbfgs', 'liblinear']\n",
    "penalty = ['l2']\n",
    "c_values = [100, 10, 1.0, 0.1, 0.01]\n",
    "# define grid search\n",
    "grid = dict(solver=solvers,penalty=penalty,C=c_values)\n",
    "cv = RepeatedStratifiedKFold(n_splits=10, n_repeats=3, random_state=1)\n",
    "grid_search = GridSearchCV(estimator=lr_tuned, param_grid=grid, n_jobs=-1, cv=cv, scoring='accuracy',error_score=0)\n",
    "grid_result = grid_search.fit(X_train_res, y_train_res)\n"
   ]
  },
  {
   "cell_type": "code",
   "execution_count": 143,
   "id": "G5015_ZTvj2D",
   "metadata": {
    "id": "G5015_ZTvj2D"
   },
   "outputs": [
    {
     "name": "stdout",
     "output_type": "stream",
     "text": [
      "Best: 0.762984 using {'C': 0.1, 'penalty': 'l2', 'solver': 'newton-cg'}\n",
      "0.762975 (0.004131) with: {'C': 100, 'penalty': 'l2', 'solver': 'newton-cg'}\n",
      "0.762058 (0.003966) with: {'C': 100, 'penalty': 'l2', 'solver': 'lbfgs'}\n",
      "0.761003 (0.004501) with: {'C': 100, 'penalty': 'l2', 'solver': 'liblinear'}\n",
      "0.762975 (0.004131) with: {'C': 10, 'penalty': 'l2', 'solver': 'newton-cg'}\n",
      "0.762105 (0.004196) with: {'C': 10, 'penalty': 'l2', 'solver': 'lbfgs'}\n",
      "0.760895 (0.004399) with: {'C': 10, 'penalty': 'l2', 'solver': 'liblinear'}\n",
      "0.762975 (0.004131) with: {'C': 1.0, 'penalty': 'l2', 'solver': 'newton-cg'}\n",
      "0.761897 (0.004247) with: {'C': 1.0, 'penalty': 'l2', 'solver': 'lbfgs'}\n",
      "0.761363 (0.004377) with: {'C': 1.0, 'penalty': 'l2', 'solver': 'liblinear'}\n",
      "0.762984 (0.004125) with: {'C': 0.1, 'penalty': 'l2', 'solver': 'newton-cg'}\n",
      "0.762067 (0.004223) with: {'C': 0.1, 'penalty': 'l2', 'solver': 'lbfgs'}\n",
      "0.761259 (0.004267) with: {'C': 0.1, 'penalty': 'l2', 'solver': 'liblinear'}\n",
      "0.762970 (0.004125) with: {'C': 0.01, 'penalty': 'l2', 'solver': 'newton-cg'}\n",
      "0.761867 (0.004188) with: {'C': 0.01, 'penalty': 'l2', 'solver': 'lbfgs'}\n",
      "0.761214 (0.004656) with: {'C': 0.01, 'penalty': 'l2', 'solver': 'liblinear'}\n"
     ]
    }
   ],
   "source": [
    "# summarize results\n",
    "print(\"Best: %f using %s\" % (grid_result.best_score_, grid_result.best_params_))\n",
    "means = grid_result.cv_results_['mean_test_score']\n",
    "stds = grid_result.cv_results_['std_test_score']\n",
    "params = grid_result.cv_results_['params']\n",
    "for mean, stdev, param in zip(means, stds, params):\n",
    "    print(\"%f (%f) with: %r\" % (mean, stdev, param))"
   ]
  },
  {
   "cell_type": "code",
   "execution_count": 144,
   "id": "295267d0",
   "metadata": {},
   "outputs": [],
   "source": [
    "lr_smote_tuned=grid_result.best_estimator_"
   ]
  },
  {
   "cell_type": "code",
   "execution_count": 145,
   "id": "KVM2pnVIvj5n",
   "metadata": {
    "id": "KVM2pnVIvj5n"
   },
   "outputs": [],
   "source": [
    "y_pred_train_grid = grid_result.best_estimator_.predict(X_train_res)"
   ]
  },
  {
   "cell_type": "code",
   "execution_count": 146,
   "id": "4875de22",
   "metadata": {},
   "outputs": [
    {
     "name": "stdout",
     "output_type": "stream",
     "text": [
      "Confusion matrix\n",
      "\n",
      " [[33211 22715]\n",
      " [ 3792 52134]]\n",
      "\n",
      "True Positives(TP) =  33211\n",
      "\n",
      "True Negatives(TN) =  52134\n",
      "\n",
      "False Positives(FP) =  22715\n",
      "\n",
      "False Negatives(FN) =  3792\n",
      "              precision    recall  f1-score   support\n",
      "\n",
      "         0.0       0.90      0.59      0.71     55926\n",
      "         1.0       0.70      0.93      0.80     55926\n",
      "\n",
      "    accuracy                           0.76    111852\n",
      "   macro avg       0.80      0.76      0.76    111852\n",
      "weighted avg       0.80      0.76      0.76    111852\n",
      "\n"
     ]
    },
    {
     "data": {
      "image/png": "[encoded data removed]",
      "text/plain": [
       "<Figure size 432x288 with 2 Axes>"
      ]
     },
     "metadata": {
      "needs_background": "light"
     },
     "output_type": "display_data"
    }
   ],
   "source": [
    "confusion_matrix_fnc(y_train_res,y_pred_train_grid)"
   ]
  },
  {
   "cell_type": "markdown",
   "id": "3b44f2e6",
   "metadata": {},
   "source": [
    "For Train:\n",
    "Precision: 70%\n",
    "Recall: 93%"
   ]
  },
  {
   "cell_type": "code",
   "execution_count": 147,
   "id": "538aad9f",
   "metadata": {},
   "outputs": [],
   "source": [
    "y_pred_test_grid=grid_result.best_estimator_.predict(X_test)"
   ]
  },
  {
   "cell_type": "code",
   "execution_count": 148,
   "id": "5cb54044",
   "metadata": {},
   "outputs": [
    {
     "name": "stdout",
     "output_type": "stream",
     "text": [
      "Confusion matrix\n",
      "\n",
      " [[8317 5554]\n",
      " [ 190 2677]]\n",
      "\n",
      "True Positives(TP) =  8317\n",
      "\n",
      "True Negatives(TN) =  2677\n",
      "\n",
      "False Positives(FP) =  5554\n",
      "\n",
      "False Negatives(FN) =  190\n",
      "              precision    recall  f1-score   support\n",
      "\n",
      "         0.0       0.98      0.60      0.74     13871\n",
      "         1.0       0.33      0.93      0.48      2867\n",
      "\n",
      "    accuracy                           0.66     16738\n",
      "   macro avg       0.65      0.77      0.61     16738\n",
      "weighted avg       0.87      0.66      0.70     16738\n",
      "\n"
     ]
    },
    {
     "data": {
      "image/png": "[encoded data removed]",
      "text/plain": [
       "<Figure size 432x288 with 2 Axes>"
      ]
     },
     "metadata": {
      "needs_background": "light"
     },
     "output_type": "display_data"
    }
   ],
   "source": [
    "confusion_matrix_fnc(y_eval,y_pred_test_grid)"
   ]
  },
  {
   "cell_type": "markdown",
   "id": "8914422b",
   "metadata": {},
   "source": [
    "For Test:\n",
    "Precision: 33%\n",
    "Recall: 93%"
   ]
  },
  {
   "cell_type": "markdown",
   "id": "bf9516ce-8365-4d2a-8d81-7d3e99ec0033",
   "metadata": {
    "id": "bf9516ce-8365-4d2a-8d81-7d3e99ec0033"
   },
   "source": [
    "# Ensemble models"
   ]
  },
  {
   "cell_type": "code",
   "execution_count": 149,
   "id": "b7524646-4b6a-4410-a5ca-c9c213478147",
   "metadata": {
    "id": "b7524646-4b6a-4410-a5ca-c9c213478147"
   },
   "outputs": [],
   "source": [
    "from sklearn.ensemble import RandomForestClassifier, AdaBoostClassifier, GradientBoostingClassifier, ExtraTreesClassifier, VotingClassifier\n",
    "from sklearn.discriminant_analysis import LinearDiscriminantAnalysis\n",
    "from sklearn.linear_model import LogisticRegression\n",
    "from sklearn.neighbors import KNeighborsClassifier\n",
    "from sklearn.tree import DecisionTreeClassifier\n",
    "from sklearn.neural_network import MLPClassifier\n",
    "from sklearn.svm import SVC\n",
    "from sklearn.model_selection import GridSearchCV, cross_val_score, StratifiedKFold, learning_curve"
   ]
  },
  {
   "cell_type": "code",
   "execution_count": 150,
   "id": "95e422bc-7ed3-4580-a1aa-3e9949e4c6e5",
   "metadata": {
    "id": "95e422bc-7ed3-4580-a1aa-3e9949e4c6e5"
   },
   "outputs": [],
   "source": [
    "kfold = StratifiedKFold(n_splits=10)"
   ]
  },
  {
   "cell_type": "code",
   "execution_count": 151,
   "id": "77e5abb9-49e2-4ebc-b679-45555ecdda4d",
   "metadata": {
    "id": "77e5abb9-49e2-4ebc-b679-45555ecdda4d"
   },
   "outputs": [],
   "source": [
    "# Modeling step Test differents algorithms \n",
    "random_state = 2\n",
    "classifiers = []\n",
    "classifiers.append(SVC(random_state=random_state))\n",
    "classifiers.append(DecisionTreeClassifier(random_state=random_state))\n",
    "classifiers.append(AdaBoostClassifier(DecisionTreeClassifier(random_state=random_state),random_state=random_state,learning_rate=0.1))\n",
    "classifiers.append(RandomForestClassifier(random_state=random_state))\n",
    "classifiers.append(ExtraTreesClassifier(random_state=random_state))\n",
    "classifiers.append(GradientBoostingClassifier(random_state=random_state))\n",
    "classifiers.append(KNeighborsClassifier())\n",
    "classifiers.append(LogisticRegression(random_state = random_state))\n",
    "classifiers.append(LinearDiscriminantAnalysis())"
   ]
  },
  {
   "cell_type": "code",
   "execution_count": 152,
   "id": "e28cf5ef-a932-4ac9-901b-213b240d1472",
   "metadata": {
    "id": "e28cf5ef-a932-4ac9-901b-213b240d1472"
   },
   "outputs": [],
   "source": [
    "ytrain=encoded_Y"
   ]
  },
  {
   "cell_type": "code",
   "execution_count": 153,
   "id": "de2fa6e1-1e7c-409b-b203-cb2edb6cd296",
   "metadata": {
    "colab": {
     "base_uri": "https://localhost:8080/",
     "height": 350
    },
    "id": "de2fa6e1-1e7c-409b-b203-cb2edb6cd296",
    "outputId": "a0612eb0-6288-41ed-8086-bd7e84365a8b"
   },
   "outputs": [
    {
     "data": {
      "image/png": "[encoded data removed]",
      "text/plain": [
       "<Figure size 432x288 with 1 Axes>"
      ]
     },
     "metadata": {
      "needs_background": "light"
     },
     "output_type": "display_data"
    }
   ],
   "source": [
    "cv_results = []\n",
    "for classifier in classifiers :\n",
    "    cv_results.append(cross_val_score(classifier, X_train, y = ytrain, scoring = \"accuracy\", cv = kfold, n_jobs=8))\n",
    "\n",
    "cv_means = []\n",
    "cv_std = []\n",
    "for cv_result in cv_results:\n",
    "    cv_means.append(cv_result.mean())\n",
    "    cv_std.append(cv_result.std())\n",
    "\n",
    "cv_res = pd.DataFrame({\"CrossValMeans\":cv_means,\"CrossValerrors\": cv_std,\"Algorithm\":[\"SVC\",\"DecisionTree\",\"AdaBoost\",\n",
    "\"RandomForest\",\"ExtraTrees\",\"GradientBoosting\",\"KNeighboors\",\"LogisticRegression\",\"LinearDiscriminantAnalysis\"]})\n",
    "\n",
    "g = sns.barplot(x=\"CrossValMeans\",y=\"Algorithm\",data = cv_res, palette=\"Set3\",orient = \"h\",**{'xerr':cv_std})\n",
    "g.set_xlabel(\"Mean Accuracy\")\n",
    "g = g.set_title(\"Cross validation scores\")"
   ]
  },
  {
   "cell_type": "markdown",
   "id": "85685836-010a-4ae7-9eb0-620438ab2d73",
   "metadata": {
    "id": "85685836-010a-4ae7-9eb0-620438ab2d73"
   },
   "source": [
    "# Model 3: Extra Tree Classifier"
   ]
  },
  {
   "cell_type": "code",
   "execution_count": 154,
   "id": "112386a4-cf3b-44cd-b65f-28c0d2880be8",
   "metadata": {
    "colab": {
     "base_uri": "https://localhost:8080/"
    },
    "id": "112386a4-cf3b-44cd-b65f-28c0d2880be8",
    "outputId": "4745f16e-3b09-4149-cee1-fd81c8e66799"
   },
   "outputs": [
    {
     "name": "stdout",
     "output_type": "stream",
     "text": [
      "Fitting 10 folds for each of 32 candidates, totalling 320 fits\n"
     ]
    },
    {
     "data": {
      "text/plain": [
       "0.954129947722181"
      ]
     },
     "execution_count": 154,
     "metadata": {},
     "output_type": "execute_result"
    }
   ],
   "source": [
    "#ExtraTrees \n",
    "ExtC = ExtraTreesClassifier()\n",
    "\n",
    "\n",
    "## Search grid for optimal parameters\n",
    "ex_param_grid = {\"max_depth\": [15,10],\n",
    "              \"max_features\": [3,5],\n",
    "              \"min_samples_split\": [2, 3],\n",
    "              \"min_samples_leaf\": [1, 3],\n",
    "              \"bootstrap\": [False],\n",
    "              \"n_estimators\" :[100,120],\n",
    "              \"criterion\": [\"gini\"]}\n",
    "\n",
    "\n",
    "gsExtC = GridSearchCV(ExtC,param_grid = ex_param_grid, cv=kfold, scoring=\"accuracy\", n_jobs= -1, verbose = 1)\n",
    "\n",
    "gsExtC.fit(X_train,y_train)\n",
    "\n",
    "ExtC_best = gsExtC.best_estimator_\n",
    "\n",
    "# Best score\n",
    "gsExtC.best_score_"
   ]
  },
  {
   "cell_type": "markdown",
   "id": "595fe299",
   "metadata": {},
   "source": [
    "Extra Tree Classifier Accuracy: 95.4%"
   ]
  },
  {
   "cell_type": "code",
   "execution_count": 155,
   "id": "1ae5ef43",
   "metadata": {},
   "outputs": [
    {
     "data": {
      "text/plain": [
       "ExtraTreesClassifier(max_depth=15, max_features=5, min_samples_split=3,\n",
       "                     n_estimators=120)"
      ]
     },
     "execution_count": 155,
     "metadata": {},
     "output_type": "execute_result"
    }
   ],
   "source": [
    "ExtC_best"
   ]
  },
  {
   "cell_type": "code",
   "execution_count": 156,
   "id": "e6e031d4-7187-49d5-a517-c614736aec0c",
   "metadata": {
    "colab": {
     "base_uri": "https://localhost:8080/",
     "height": 629
    },
    "id": "e6e031d4-7187-49d5-a517-c614736aec0c",
    "outputId": "fc4e2cf7-20a9-43a4-da7f-0a5af0aa3405"
   },
   "outputs": [
    {
     "name": "stdout",
     "output_type": "stream",
     "text": [
      "Confusion matrix\n",
      "\n",
      " [[55164   762]\n",
      " [ 1560  9464]]\n",
      "\n",
      "True Positives(TP) =  55164\n",
      "\n",
      "True Negatives(TN) =  9464\n",
      "\n",
      "False Positives(FP) =  762\n",
      "\n",
      "False Negatives(FN) =  1560\n",
      "              precision    recall  f1-score   support\n",
      "\n",
      "         0.0       0.97      0.99      0.98     55926\n",
      "         1.0       0.93      0.86      0.89     11024\n",
      "\n",
      "    accuracy                           0.97     66950\n",
      "   macro avg       0.95      0.92      0.94     66950\n",
      "weighted avg       0.96      0.97      0.96     66950\n",
      "\n"
     ]
    },
    {
     "data": {
      "image/png": "[encoded data removed]",
      "text/plain": [
       "<Figure size 432x288 with 2 Axes>"
      ]
     },
     "metadata": {
      "needs_background": "light"
     },
     "output_type": "display_data"
    }
   ],
   "source": [
    "confusion_matrix_fnc(y_train,pd.Series(ExtC_best.predict(X_train)))"
   ]
  },
  {
   "cell_type": "markdown",
   "id": "601e66ec",
   "metadata": {},
   "source": [
    "For Train:\n",
    "Precision: 93%\n",
    "Recall: 86%"
   ]
  },
  {
   "cell_type": "code",
   "execution_count": 157,
   "id": "d2f55b6b-5852-4354-ae4e-7ac4f9311b9b",
   "metadata": {
    "colab": {
     "base_uri": "https://localhost:8080/",
     "height": 629
    },
    "id": "d2f55b6b-5852-4354-ae4e-7ac4f9311b9b",
    "outputId": "07ea9a4e-eff7-47e8-c520-def41abf93fc"
   },
   "outputs": [
    {
     "name": "stdout",
     "output_type": "stream",
     "text": [
      "Confusion matrix\n",
      "\n",
      " [[13611   260]\n",
      " [  527  2340]]\n",
      "\n",
      "True Positives(TP) =  13611\n",
      "\n",
      "True Negatives(TN) =  2340\n",
      "\n",
      "False Positives(FP) =  260\n",
      "\n",
      "False Negatives(FN) =  527\n",
      "              precision    recall  f1-score   support\n",
      "\n",
      "         0.0       0.96      0.98      0.97     13871\n",
      "         1.0       0.90      0.82      0.86      2867\n",
      "\n",
      "    accuracy                           0.95     16738\n",
      "   macro avg       0.93      0.90      0.91     16738\n",
      "weighted avg       0.95      0.95      0.95     16738\n",
      "\n"
     ]
    },
    {
     "data": {
      "image/png": "[encoded data removed]",
      "text/plain": [
       "<Figure size 432x288 with 2 Axes>"
      ]
     },
     "metadata": {
      "needs_background": "light"
     },
     "output_type": "display_data"
    }
   ],
   "source": [
    "confusion_matrix_fnc(y_eval,pd.Series(ExtC_best.predict(X_test)))"
   ]
  },
  {
   "cell_type": "markdown",
   "id": "455e51dd",
   "metadata": {},
   "source": [
    "For Test:\n",
    "Precision: 90%\n",
    "Recall: 82%"
   ]
  },
  {
   "cell_type": "markdown",
   "id": "5ead8833-a8a5-42bd-a2f5-a83712072d43",
   "metadata": {
    "id": "5ead8833-a8a5-42bd-a2f5-a83712072d43"
   },
   "source": [
    "# Model 4: Random Forest"
   ]
  },
  {
   "cell_type": "code",
   "execution_count": 158,
   "id": "3895d65c-686b-4822-83da-2b7a6684a719",
   "metadata": {
    "colab": {
     "base_uri": "https://localhost:8080/"
    },
    "id": "3895d65c-686b-4822-83da-2b7a6684a719",
    "outputId": "05388c05-fc23-4528-a293-2063c59dbcc9"
   },
   "outputs": [
    {
     "name": "stdout",
     "output_type": "stream",
     "text": [
      "Fitting 10 folds for each of 32 candidates, totalling 320 fits\n"
     ]
    },
    {
     "data": {
      "text/plain": [
       "0.9438386855862584"
      ]
     },
     "execution_count": 158,
     "metadata": {},
     "output_type": "execute_result"
    }
   ],
   "source": [
    "# RFC Parameters tunning \n",
    "RFC = RandomForestClassifier()\n",
    "\n",
    "\n",
    "## Search grid for optimal parameters\n",
    "rf_param_grid = {\"max_depth\": [5,10],\n",
    "              \"max_features\": [1, 3],\n",
    "              \"min_samples_split\": [2, 3],\n",
    "              \"min_samples_leaf\": [1, 3],\n",
    "              \"bootstrap\": [False],\n",
    "              \"n_estimators\" :[100,200],\n",
    "              \"criterion\": [\"gini\"]}\n",
    "\n",
    "\n",
    "gsRFC = GridSearchCV(RFC,param_grid = rf_param_grid, cv=kfold, scoring=\"accuracy\", n_jobs= 8,verbose = 1)\n",
    "\n",
    "gsRFC.fit(X_train,y_train)\n",
    "\n",
    "RFC_best = gsRFC.best_estimator_\n",
    "\n",
    "# Best score\n",
    "gsRFC.best_score_"
   ]
  },
  {
   "cell_type": "code",
   "execution_count": 159,
   "id": "ae9b0c70",
   "metadata": {},
   "outputs": [
    {
     "data": {
      "text/plain": [
       "RandomForestClassifier(bootstrap=False, max_depth=10, max_features=3,\n",
       "                       min_samples_split=3, n_estimators=200)"
      ]
     },
     "execution_count": 159,
     "metadata": {},
     "output_type": "execute_result"
    }
   ],
   "source": [
    "RFC_best"
   ]
  },
  {
   "cell_type": "code",
   "execution_count": 161,
   "id": "98454516-e29b-42a3-80af-fecb284e9515",
   "metadata": {
    "colab": {
     "base_uri": "https://localhost:8080/",
     "height": 629
    },
    "id": "98454516-e29b-42a3-80af-fecb284e9515",
    "outputId": "869c68b3-7bc6-4e5d-b3fe-b730bc0b19c8"
   },
   "outputs": [
    {
     "name": "stdout",
     "output_type": "stream",
     "text": [
      "Confusion matrix\n",
      "\n",
      " [[54756  1170]\n",
      " [ 2083  8941]]\n",
      "\n",
      "True Positives(TP) =  54756\n",
      "\n",
      "True Negatives(TN) =  8941\n",
      "\n",
      "False Positives(FP) =  1170\n",
      "\n",
      "False Negatives(FN) =  2083\n",
      "              precision    recall  f1-score   support\n",
      "\n",
      "         0.0       0.96      0.98      0.97     55926\n",
      "         1.0       0.88      0.81      0.85     11024\n",
      "\n",
      "    accuracy                           0.95     66950\n",
      "   macro avg       0.92      0.90      0.91     66950\n",
      "weighted avg       0.95      0.95      0.95     66950\n",
      "\n"
     ]
    },
    {
     "data": {
      "image/png": "[encoded data removed]",
      "text/plain": [
       "<Figure size 432x288 with 2 Axes>"
      ]
     },
     "metadata": {
      "needs_background": "light"
     },
     "output_type": "display_data"
    }
   ],
   "source": [
    "confusion_matrix_fnc(y_train,pd.Series(RFC_best.predict(X_train)))"
   ]
  },
  {
   "cell_type": "markdown",
   "id": "169340a3",
   "metadata": {},
   "source": [
    "For Train:\n",
    "Precision: 88%\n",
    "Recall: 81%"
   ]
  },
  {
   "cell_type": "code",
   "execution_count": 162,
   "id": "a05c080d-f321-4899-bfae-56fe30ccc1c9",
   "metadata": {
    "colab": {
     "base_uri": "https://localhost:8080/",
     "height": 629
    },
    "id": "a05c080d-f321-4899-bfae-56fe30ccc1c9",
    "outputId": "62fc2bf0-ead1-4511-d34d-09fe5142f434"
   },
   "outputs": [
    {
     "name": "stdout",
     "output_type": "stream",
     "text": [
      "Confusion matrix\n",
      "\n",
      " [[13549   322]\n",
      " [  608  2259]]\n",
      "\n",
      "True Positives(TP) =  13549\n",
      "\n",
      "True Negatives(TN) =  2259\n",
      "\n",
      "False Positives(FP) =  322\n",
      "\n",
      "False Negatives(FN) =  608\n",
      "              precision    recall  f1-score   support\n",
      "\n",
      "         0.0       0.96      0.98      0.97     13871\n",
      "         1.0       0.88      0.79      0.83      2867\n",
      "\n",
      "    accuracy                           0.94     16738\n",
      "   macro avg       0.92      0.88      0.90     16738\n",
      "weighted avg       0.94      0.94      0.94     16738\n",
      "\n"
     ]
    },
    {
     "data": {
      "image/png": "[encoded data removed]",
      "text/plain": [
       "<Figure size 432x288 with 2 Axes>"
      ]
     },
     "metadata": {
      "needs_background": "light"
     },
     "output_type": "display_data"
    }
   ],
   "source": [
    "confusion_matrix_fnc(y_eval,pd.Series(RFC_best.predict(X_test)))"
   ]
  },
  {
   "cell_type": "markdown",
   "id": "59d62141",
   "metadata": {},
   "source": [
    "For Test:\n",
    "Precision: 88%\n",
    "Recall: 79%"
   ]
  },
  {
   "cell_type": "markdown",
   "id": "7e3e48c0-6d36-4003-988a-5db6b1ccb2f1",
   "metadata": {
    "id": "7e3e48c0-6d36-4003-988a-5db6b1ccb2f1"
   },
   "source": [
    "# Gradient Boosting Classifier"
   ]
  },
  {
   "cell_type": "code",
   "execution_count": 163,
   "id": "9a51d0a3-2d02-44ea-b2eb-b59dc9bc7449",
   "metadata": {
    "colab": {
     "base_uri": "https://localhost:8080/"
    },
    "id": "9a51d0a3-2d02-44ea-b2eb-b59dc9bc7449",
    "outputId": "da717b02-5dcb-4b9b-cf88-6645be82d137"
   },
   "outputs": [
    {
     "name": "stdout",
     "output_type": "stream",
     "text": [
      "Fitting 10 folds for each of 18 candidates, totalling 180 fits\n"
     ]
    },
    {
     "data": {
      "text/plain": [
       "0.9423749066467513"
      ]
     },
     "execution_count": 163,
     "metadata": {},
     "output_type": "execute_result"
    }
   ],
   "source": [
    "# Gradient boosting tunning\n",
    "\n",
    "GBC = GradientBoostingClassifier()\n",
    "gb_param_grid = {'loss' : [\"deviance\"],\n",
    "              'learning_rate': [0.2,0.5,0.1],\n",
    "              'min_samples_leaf': [50,100,150],\n",
    "              'max_features': [0.5,0.7] \n",
    "              }\n",
    "\n",
    "gsGBC = GridSearchCV(GBC,param_grid = gb_param_grid, cv=kfold, scoring=\"accuracy\", n_jobs= -1, verbose = 1)\n",
    "\n",
    "gsGBC.fit(X_train,y_train)\n",
    "\n",
    "GBC_best = gsGBC.best_estimator_\n",
    "\n",
    "# Best score\n",
    "gsGBC.best_score_"
   ]
  },
  {
   "cell_type": "code",
   "execution_count": 164,
   "id": "163ae15f",
   "metadata": {},
   "outputs": [
    {
     "data": {
      "text/plain": [
       "GradientBoostingClassifier(learning_rate=0.5, max_features=0.7,\n",
       "                           min_samples_leaf=50)"
      ]
     },
     "execution_count": 164,
     "metadata": {},
     "output_type": "execute_result"
    }
   ],
   "source": [
    "GBC_best"
   ]
  },
  {
   "cell_type": "code",
   "execution_count": 165,
   "id": "c770ebb6-9003-4288-b147-2d786357d7d7",
   "metadata": {
    "colab": {
     "base_uri": "https://localhost:8080/",
     "height": 629
    },
    "id": "c770ebb6-9003-4288-b147-2d786357d7d7",
    "outputId": "3e6146c8-29c1-4b32-b4b1-663f627df113"
   },
   "outputs": [
    {
     "name": "stdout",
     "output_type": "stream",
     "text": [
      "Confusion matrix\n",
      "\n",
      " [[54381  1545]\n",
      " [ 2130  8894]]\n",
      "\n",
      "True Positives(TP) =  54381\n",
      "\n",
      "True Negatives(TN) =  8894\n",
      "\n",
      "False Positives(FP) =  1545\n",
      "\n",
      "False Negatives(FN) =  2130\n",
      "              precision    recall  f1-score   support\n",
      "\n",
      "         0.0       0.96      0.97      0.97     55926\n",
      "         1.0       0.85      0.81      0.83     11024\n",
      "\n",
      "    accuracy                           0.95     66950\n",
      "   macro avg       0.91      0.89      0.90     66950\n",
      "weighted avg       0.94      0.95      0.94     66950\n",
      "\n"
     ]
    },
    {
     "data": {
      "image/png": "[encoded data removed]",
      "text/plain": [
       "<Figure size 432x288 with 2 Axes>"
      ]
     },
     "metadata": {
      "needs_background": "light"
     },
     "output_type": "display_data"
    }
   ],
   "source": [
    "confusion_matrix_fnc(y_train,pd.Series(GBC_best.predict(X_train)))"
   ]
  },
  {
   "cell_type": "markdown",
   "id": "0fe219da",
   "metadata": {},
   "source": [
    "For Train:\n",
    "Precision: 85%\n",
    "Recall: 81%"
   ]
  },
  {
   "cell_type": "code",
   "execution_count": 166,
   "id": "228f6cae-634e-4317-9d3b-3f9d5301871d",
   "metadata": {
    "colab": {
     "base_uri": "https://localhost:8080/",
     "height": 629
    },
    "id": "228f6cae-634e-4317-9d3b-3f9d5301871d",
    "outputId": "cb5de1ae-e73d-4edf-9e2b-6c2c931cdf32"
   },
   "outputs": [
    {
     "name": "stdout",
     "output_type": "stream",
     "text": [
      "Confusion matrix\n",
      "\n",
      " [[13458   413]\n",
      " [  570  2297]]\n",
      "\n",
      "True Positives(TP) =  13458\n",
      "\n",
      "True Negatives(TN) =  2297\n",
      "\n",
      "False Positives(FP) =  413\n",
      "\n",
      "False Negatives(FN) =  570\n",
      "              precision    recall  f1-score   support\n",
      "\n",
      "         0.0       0.96      0.97      0.96     13871\n",
      "         1.0       0.85      0.80      0.82      2867\n",
      "\n",
      "    accuracy                           0.94     16738\n",
      "   macro avg       0.90      0.89      0.89     16738\n",
      "weighted avg       0.94      0.94      0.94     16738\n",
      "\n"
     ]
    },
    {
     "data": {
      "image/png": "[encoded data removed]",
      "text/plain": [
       "<Figure size 432x288 with 2 Axes>"
      ]
     },
     "metadata": {
      "needs_background": "light"
     },
     "output_type": "display_data"
    }
   ],
   "source": [
    "confusion_matrix_fnc(y_eval,pd.Series(GBC_best.predict(X_test)))"
   ]
  },
  {
   "cell_type": "markdown",
   "id": "d9cb430c",
   "metadata": {},
   "source": [
    "For Test:\n",
    "Precision: 85%\n",
    "Recall: 80%"
   ]
  },
  {
   "cell_type": "markdown",
   "id": "1c76cd5c-4fbe-4a92-9ba6-a98c59b59b8f",
   "metadata": {
    "id": "1c76cd5c-4fbe-4a92-9ba6-a98c59b59b8f"
   },
   "source": [
    "# All Ensemble Voting Classifier"
   ]
  },
  {
   "cell_type": "code",
   "execution_count": 167,
   "id": "7d2be120-98e0-4394-87c7-4457045dad30",
   "metadata": {
    "id": "7d2be120-98e0-4394-87c7-4457045dad30"
   },
   "outputs": [],
   "source": [
    "votingC = VotingClassifier(estimators=[('rfc', RFC_best), ('extc', ExtC_best),('gbc',GBC_best)], voting='soft', n_jobs=8)\n",
    "\n",
    "votingC = votingC.fit(X_train, y_train)"
   ]
  },
  {
   "cell_type": "code",
   "execution_count": 168,
   "id": "0705ce82-e107-4d69-b765-8de8c232f32e",
   "metadata": {
    "id": "0705ce82-e107-4d69-b765-8de8c232f32e"
   },
   "outputs": [
    {
     "name": "stdout",
     "output_type": "stream",
     "text": [
      "Confusion matrix\n",
      "\n",
      " [[54888  1038]\n",
      " [ 1909  9115]]\n",
      "\n",
      "True Positives(TP) =  54888\n",
      "\n",
      "True Negatives(TN) =  9115\n",
      "\n",
      "False Positives(FP) =  1038\n",
      "\n",
      "False Negatives(FN) =  1909\n",
      "              precision    recall  f1-score   support\n",
      "\n",
      "         0.0       0.97      0.98      0.97     55926\n",
      "         1.0       0.90      0.83      0.86     11024\n",
      "\n",
      "    accuracy                           0.96     66950\n",
      "   macro avg       0.93      0.90      0.92     66950\n",
      "weighted avg       0.96      0.96      0.96     66950\n",
      "\n"
     ]
    },
    {
     "data": {
      "image/png": "[encoded data removed]",
      "text/plain": [
       "<Figure size 432x288 with 2 Axes>"
      ]
     },
     "metadata": {
      "needs_background": "light"
     },
     "output_type": "display_data"
    }
   ],
   "source": [
    "confusion_matrix_fnc(y_train,pd.Series(votingC.predict(X_train)))"
   ]
  },
  {
   "cell_type": "markdown",
   "id": "c20b6140",
   "metadata": {},
   "source": [
    "For Train:\n",
    "Precision: 90%\n",
    "Recall: 83%"
   ]
  },
  {
   "cell_type": "code",
   "execution_count": 169,
   "id": "a1af8a22-4ad5-4a0f-b8da-de129e4703ff",
   "metadata": {
    "id": "a1af8a22-4ad5-4a0f-b8da-de129e4703ff"
   },
   "outputs": [
    {
     "name": "stdout",
     "output_type": "stream",
     "text": [
      "Confusion matrix\n",
      "\n",
      " [[13587   284]\n",
      " [  551  2316]]\n",
      "\n",
      "True Positives(TP) =  13587\n",
      "\n",
      "True Negatives(TN) =  2316\n",
      "\n",
      "False Positives(FP) =  284\n",
      "\n",
      "False Negatives(FN) =  551\n",
      "              precision    recall  f1-score   support\n",
      "\n",
      "         0.0       0.96      0.98      0.97     13871\n",
      "         1.0       0.89      0.81      0.85      2867\n",
      "\n",
      "    accuracy                           0.95     16738\n",
      "   macro avg       0.93      0.89      0.91     16738\n",
      "weighted avg       0.95      0.95      0.95     16738\n",
      "\n"
     ]
    },
    {
     "data": {
      "image/png": "[encoded data removed]",
      "text/plain": [
       "<Figure size 432x288 with 2 Axes>"
      ]
     },
     "metadata": {
      "needs_background": "light"
     },
     "output_type": "display_data"
    }
   ],
   "source": [
    "confusion_matrix_fnc(y_eval,pd.Series(votingC.predict(X_test)))"
   ]
  },
  {
   "cell_type": "markdown",
   "id": "47c3e3c7",
   "metadata": {},
   "source": [
    "For Test:\n",
    "Precision: 89%\n",
    "Recall: 81%"
   ]
  },
  {
   "cell_type": "markdown",
   "id": "4a472537-e542-4167-b292-6c5178762c9d",
   "metadata": {
    "id": "4a472537-e542-4167-b292-6c5178762c9d"
   },
   "source": [
    "# Learning Curves"
   ]
  },
  {
   "cell_type": "code",
   "execution_count": 170,
   "id": "6be07e4e-55d7-4111-adff-9e85611f7a68",
   "metadata": {
    "id": "6be07e4e-55d7-4111-adff-9e85611f7a68"
   },
   "outputs": [
    {
     "data": {
      "image/png": "[encoded data removed]",
      "text/plain": [
       "<Figure size 432x288 with 1 Axes>"
      ]
     },
     "metadata": {
      "needs_background": "light"
     },
     "output_type": "display_data"
    },
    {
     "data": {
      "image/png": "[encoded data removed]",
      "text/plain": [
       "<Figure size 432x288 with 1 Axes>"
      ]
     },
     "metadata": {
      "needs_background": "light"
     },
     "output_type": "display_data"
    },
    {
     "data": {
      "image/png": "[encoded data removed]",
      "text/plain": [
       "<Figure size 432x288 with 1 Axes>"
      ]
     },
     "metadata": {
      "needs_background": "light"
     },
     "output_type": "display_data"
    }
   ],
   "source": [
    "def plot_learning_curve(estimator, title, X, y, ylim=None, cv=None,\n",
    "                        n_jobs=-1, train_sizes=np.linspace(.1, 1.0, 5)):\n",
    "    \"\"\"Generate a simple plot of the test and training learning curve\"\"\"\n",
    "    plt.figure()\n",
    "    plt.title(title)\n",
    "    if ylim is not None:\n",
    "        plt.ylim(*ylim)\n",
    "    plt.xlabel(\"Training examples\")\n",
    "    plt.ylabel(\"Score\")\n",
    "    train_sizes, train_scores, test_scores = learning_curve(\n",
    "        estimator, X, y, cv=cv, n_jobs=n_jobs, train_sizes=train_sizes)\n",
    "    train_scores_mean = np.mean(train_scores, axis=1)\n",
    "    train_scores_std = np.std(train_scores, axis=1)\n",
    "    test_scores_mean = np.mean(test_scores, axis=1)\n",
    "    test_scores_std = np.std(test_scores, axis=1)\n",
    "    plt.grid()\n",
    "\n",
    "    plt.fill_between(train_sizes, train_scores_mean - train_scores_std,\n",
    "                     train_scores_mean + train_scores_std, alpha=0.1,\n",
    "                     color=\"r\")\n",
    "    plt.fill_between(train_sizes, test_scores_mean - test_scores_std,\n",
    "                     test_scores_mean + test_scores_std, alpha=0.1, color=\"g\")\n",
    "    plt.plot(train_sizes, train_scores_mean, 'o-', color=\"r\",\n",
    "             label=\"Training score\")\n",
    "    plt.plot(train_sizes, test_scores_mean, 'o-', color=\"g\",\n",
    "             label=\"Cross-validation score\")\n",
    "\n",
    "    plt.legend(loc=\"best\")\n",
    "    return plt\n",
    "\n",
    "g = plot_learning_curve(gsRFC.best_estimator_,\"RF mearning curves\",X_train,y_train,cv=kfold)\n",
    "g = plot_learning_curve(gsExtC.best_estimator_,\"ExtraTrees learning curves\",X_train,y_train,cv=kfold)\n",
    "g = plot_learning_curve(gsGBC.best_estimator_,\"GradientBoosting learning curves\",X_train,y_train,cv=kfold)"
   ]
  },
  {
   "cell_type": "markdown",
   "id": "c09c9ed8-7e39-4daa-bf6e-2806d50c7296",
   "metadata": {
    "id": "c09c9ed8-7e39-4daa-bf6e-2806d50c7296"
   },
   "source": [
    "# Model 7: Keras RNN Model"
   ]
  },
  {
   "cell_type": "code",
   "execution_count": 171,
   "id": "d4c968eb",
   "metadata": {},
   "outputs": [],
   "source": [
    "dataset_y = df_train_test.pop('CHB')\n",
    "\n",
    "encoder = LabelEncoder()\n",
    "encoder.fit(dataset_y)\n",
    "encoded_Y = encoder.transform(dataset_y)\n",
    "\n",
    "dataset_X = df_train_test.values\n",
    "\n",
    "\n"
   ]
  },
  {
   "cell_type": "code",
   "execution_count": 172,
   "id": "316dbd3f",
   "metadata": {},
   "outputs": [
    {
     "data": {
      "text/plain": [
       "array([[0.000e+00, 1.565e+03, 1.500e+01, ..., 3.600e+01, 5.100e+01,\n",
       "        7.000e+00],\n",
       "       [0.000e+00, 6.031e+03, 2.900e+01, ..., 3.300e+01, 1.200e+01,\n",
       "        7.000e+00],\n",
       "       [0.000e+00, 8.600e+01, 2.000e+00, ..., 3.300e+01, 3.400e+01,\n",
       "        7.000e+00],\n",
       "       ...,\n",
       "       [7.020e+02, 9.247e+03, 2.400e+01, ..., 4.800e+01, 1.300e+01,\n",
       "        0.000e+00],\n",
       "       [7.020e+02, 1.400e+01, 2.500e+01, ..., 2.900e+01, 5.200e+01,\n",
       "        0.000e+00],\n",
       "       [7.020e+02, 5.510e+02, 2.500e+01, ..., 4.000e+01, 3.700e+01,\n",
       "        0.000e+00]])"
      ]
     },
     "execution_count": 172,
     "metadata": {},
     "output_type": "execute_result"
    }
   ],
   "source": [
    "dataset_X"
   ]
  },
  {
   "cell_type": "code",
   "execution_count": 173,
   "id": "98f3e79a-71d1-42eb-9010-0d1a2c0acc8b",
   "metadata": {
    "id": "98f3e79a-71d1-42eb-9010-0d1a2c0acc8b"
   },
   "outputs": [],
   "source": [
    "model = Sequential()\n",
    "model.add(Dense(1024, input_dim=8, activation='relu'))\n",
    "model.add(Dense(512, activation='relu'))\n",
    "model.add(Dense(256, activation='relu'))\n",
    "model.add(Dense(1, activation='sigmoid'))\n",
    "# Compile model\n",
    "model.compile(loss='binary_crossentropy', optimizer='adam', metrics=['accuracy'])"
   ]
  },
  {
   "cell_type": "code",
   "execution_count": 174,
   "id": "d6d67bb8-73cf-4697-b4b0-fa9b30e2151c",
   "metadata": {
    "id": "d6d67bb8-73cf-4697-b4b0-fa9b30e2151c",
    "scrolled": true
   },
   "outputs": [
    {
     "name": "stdout",
     "output_type": "stream",
     "text": [
      "Epoch 1/20\n",
      "2616/2616 [==============================] - 10s 3ms/step - loss: 0.4858 - accuracy: 0.8398\n",
      "Epoch 2/20\n",
      "2616/2616 [==============================] - 9s 3ms/step - loss: 0.3436 - accuracy: 0.8513\n",
      "Epoch 3/20\n",
      "2616/2616 [==============================] - 9s 4ms/step - loss: 0.2848 - accuracy: 0.8655\n",
      "Epoch 4/20\n",
      "2616/2616 [==============================] - 9s 4ms/step - loss: 0.2782 - accuracy: 0.8694\n",
      "Epoch 5/20\n",
      "2616/2616 [==============================] - 9s 4ms/step - loss: 0.2676 - accuracy: 0.8737\n",
      "Epoch 6/20\n",
      "2616/2616 [==============================] - 9s 4ms/step - loss: 0.2602 - accuracy: 0.8777\n",
      "Epoch 7/20\n",
      "2616/2616 [==============================] - 10s 4ms/step - loss: 0.2538 - accuracy: 0.8834\n",
      "Epoch 8/20\n",
      "2616/2616 [==============================] - 10s 4ms/step - loss: 0.2496 - accuracy: 0.8860\n",
      "Epoch 9/20\n",
      "2616/2616 [==============================] - 10s 4ms/step - loss: 0.2443 - accuracy: 0.8892\n",
      "Epoch 10/20\n",
      "2616/2616 [==============================] - 10s 4ms/step - loss: 0.2392 - accuracy: 0.8922\n",
      "Epoch 11/20\n",
      "2616/2616 [==============================] - 10s 4ms/step - loss: 0.2362 - accuracy: 0.8947\n",
      "Epoch 12/20\n",
      "2616/2616 [==============================] - 10s 4ms/step - loss: 0.2312 - accuracy: 0.8966\n",
      "Epoch 13/20\n",
      "2616/2616 [==============================] - 10s 4ms/step - loss: 0.2296 - accuracy: 0.8980\n",
      "Epoch 14/20\n",
      "2616/2616 [==============================] - 11s 4ms/step - loss: 0.2256 - accuracy: 0.9001\n",
      "Epoch 15/20\n",
      "2616/2616 [==============================] - 11s 4ms/step - loss: 0.2227 - accuracy: 0.9011\n",
      "Epoch 16/20\n",
      "2616/2616 [==============================] - 10s 4ms/step - loss: 0.2204 - accuracy: 0.9044\n",
      "Epoch 17/20\n",
      "2616/2616 [==============================] - 10s 4ms/step - loss: 0.2169 - accuracy: 0.9058\n",
      "Epoch 18/20\n",
      "2616/2616 [==============================] - 11s 4ms/step - loss: 0.2160 - accuracy: 0.9066\n",
      "Epoch 19/20\n",
      "2616/2616 [==============================] - 11s 4ms/step - loss: 0.2130 - accuracy: 0.9081\n",
      "Epoch 20/20\n",
      "2616/2616 [==============================] - 11s 4ms/step - loss: 0.2114 - accuracy: 0.9091\n"
     ]
    },
    {
     "data": {
      "text/plain": [
       "<keras.callbacks.History at 0x7fe010741c40>"
      ]
     },
     "execution_count": 174,
     "metadata": {},
     "output_type": "execute_result"
    }
   ],
   "source": [
    "model.fit(dataset_X, encoded_Y, epochs=20)"
   ]
  },
  {
   "cell_type": "code",
   "execution_count": 175,
   "id": "5e6d10be",
   "metadata": {},
   "outputs": [
    {
     "name": "stdout",
     "output_type": "stream",
     "text": [
      "Accuracy on test data: 0.8912508487701416 \n",
      " Error on Train data: 0.1087491512298584\n"
     ]
    }
   ],
   "source": [
    "pred_test= model.predict(dataset_X)\n",
    "scores2 = model.evaluate(dataset_X, encoded_Y, verbose=0)\n",
    "print('Accuracy on test data: {} \\n Error on Train data: {}'.format(scores2[1], 1 - scores2[1]))  "
   ]
  },
  {
   "cell_type": "markdown",
   "id": "d869c328",
   "metadata": {
    "id": "c25554b8-2dd0-4cfc-833c-f770b2932250"
   },
   "source": [
    "model.save(\"keras_model_82A_623\")"
   ]
  },
  {
   "cell_type": "markdown",
   "id": "0c36cb97",
   "metadata": {
    "id": "02fa9b6f-6a36-4ff9-bf08-201ea370b2d8"
   },
   "source": [
    "from tensorflow import keras\n",
    "reconstructed_model = keras.models.load_model(\"keras_model_82A_623\")"
   ]
  },
  {
   "cell_type": "code",
   "execution_count": 176,
   "id": "343a2036",
   "metadata": {
    "id": "7caa3e4b-8308-47a0-80a5-32c6b4d0ffbb"
   },
   "outputs": [],
   "source": [
    "from sklearn.metrics import roc_curve"
   ]
  },
  {
   "cell_type": "code",
   "execution_count": 177,
   "id": "815cd9f5",
   "metadata": {
    "id": "815cd9f5"
   },
   "outputs": [
    {
     "data": {
      "image/png": "[encoded data removed]",
      "text/plain": [
       "<Figure size 432x288 with 2 Axes>"
      ]
     },
     "metadata": {
      "needs_background": "light"
     },
     "output_type": "display_data"
    }
   ],
   "source": [
    "y_pred_keras = model.predict(dataset_X).ravel()\n",
    "fpr_keras, tpr_keras, thresholds_keras = roc_curve(encoded_Y, y_pred_keras)\n",
    "from sklearn.metrics import auc\n",
    "auc_keras = auc(fpr_keras, tpr_keras)\n",
    "xx=pd.DataFrame(y_pred_keras)\n",
    "xx.columns=['predict_prob']\n",
    "xx['target']=np.where(xx.predict_prob>0.5,1,0)\n",
    "xx['y_actual']=encoded_Y\n",
    "conf_matrix=confusion_matrix(xx.y_actual, xx.target)\n",
    "df_conf_matrix = pd.DataFrame(conf_matrix, index=[0, 1], columns=[0, 1])\n",
    "# Plot the confusion matrix (parameters are optimized for A4, 3 matrices in a row)\n",
    "fig = plt.figure()\n",
    "ax = fig.add_subplot(111)\n",
    "fig = sns.heatmap(df_conf_matrix, annot=True, square=True, cmap='Reds',\n",
    "fmt='d', annot_kws={\"size\": 20})\n",
    "cax = plt.gcf().axes[-1]\n",
    "cax.tick_params(labelsize=20)\n",
    "ax.set_ylabel('True label', fontsize=20, labelpad=30)\n",
    "ax.set_xlabel('Predicted label', fontsize=20, labelpad=30)\n",
    "ax.tick_params(labelsize=20, axis='x')\n",
    "ax.tick_params(labelsize=20, axis='y')\n",
    "plt.show()"
   ]
  },
  {
   "cell_type": "markdown",
   "id": "9a744587-4dc3-4fc2-962a-5e6e4290738b",
   "metadata": {
    "id": "9a744587-4dc3-4fc2-962a-5e6e4290738b"
   },
   "source": [
    "# Model 8: RNN with more epochs and focus on precision "
   ]
  },
  {
   "cell_type": "code",
   "execution_count": 178,
   "id": "575ada87-9ef6-4aee-8006-6c88c0c89d51",
   "metadata": {
    "id": "575ada87-9ef6-4aee-8006-6c88c0c89d51"
   },
   "outputs": [],
   "source": [
    "model1 = Sequential()\n",
    "model1.add(Dense(1024, input_dim=8, activation='relu'))\n",
    "model1.add(Dense(512, activation='relu'))\n",
    "model1.add(Dense(256, activation='relu'))\n",
    "model1.add(Dense(1, activation='sigmoid'))\n",
    "# Compile model\n",
    "model1.compile(loss='binary_crossentropy', optimizer='adam', metrics=[tf.keras.metrics.Precision()])"
   ]
  },
  {
   "cell_type": "code",
   "execution_count": 179,
   "id": "dec12b6d-3bf5-4f13-94e2-0510e7abcf4c",
   "metadata": {
    "id": "dec12b6d-3bf5-4f13-94e2-0510e7abcf4c",
    "scrolled": true
   },
   "outputs": [
    {
     "name": "stdout",
     "output_type": "stream",
     "text": [
      "Epoch 1/30\n",
      "2616/2616 [==============================] - 10s 4ms/step - loss: 0.5011 - precision_2: 0.5108\n",
      "Epoch 2/30\n",
      "2616/2616 [==============================] - 9s 4ms/step - loss: 0.5131 - precision_2: 0.5604\n",
      "Epoch 3/30\n",
      "2616/2616 [==============================] - 11s 4ms/step - loss: 0.2918 - precision_2: 0.6090\n",
      "Epoch 4/30\n",
      "2616/2616 [==============================] - 10s 4ms/step - loss: 0.2719 - precision_2: 0.6240\n",
      "Epoch 5/30\n",
      "2616/2616 [==============================] - 11s 4ms/step - loss: 0.2583 - precision_2: 0.6563\n",
      "Epoch 6/30\n",
      "2616/2616 [==============================] - 12s 5ms/step - loss: 0.2497 - precision_2: 0.6701\n",
      "Epoch 7/30\n",
      "2616/2616 [==============================] - 17s 6ms/step - loss: 0.2401 - precision_2: 0.6899\n",
      "Epoch 8/30\n",
      "2616/2616 [==============================] - 11s 4ms/step - loss: 0.2342 - precision_2: 0.7018\n",
      "Epoch 9/30\n",
      "2616/2616 [==============================] - 11s 4ms/step - loss: 0.2305 - precision_2: 0.7153\n",
      "Epoch 10/30\n",
      "2616/2616 [==============================] - 11s 4ms/step - loss: 0.2256 - precision_2: 0.7241\n",
      "Epoch 11/30\n",
      "2616/2616 [==============================] - 11s 4ms/step - loss: 0.2205 - precision_2: 0.7404\n",
      "Epoch 12/30\n",
      "2616/2616 [==============================] - 11s 4ms/step - loss: 0.2185 - precision_2: 0.7454\n",
      "Epoch 13/30\n",
      "2616/2616 [==============================] - 12s 5ms/step - loss: 0.2154 - precision_2: 0.7595\n",
      "Epoch 14/30\n",
      "2616/2616 [==============================] - 12s 5ms/step - loss: 0.2123 - precision_2: 0.7660\n",
      "Epoch 15/30\n",
      "2616/2616 [==============================] - 11s 4ms/step - loss: 0.2119 - precision_2: 0.7689\n",
      "Epoch 16/30\n",
      "2616/2616 [==============================] - 11s 4ms/step - loss: 0.2076 - precision_2: 0.7718\n",
      "Epoch 17/30\n",
      "2616/2616 [==============================] - 12s 4ms/step - loss: 0.2054 - precision_2: 0.7780\n",
      "Epoch 18/30\n",
      "2616/2616 [==============================] - 11s 4ms/step - loss: 0.2036 - precision_2: 0.7785\n",
      "Epoch 19/30\n",
      "2616/2616 [==============================] - 10s 4ms/step - loss: 0.2041 - precision_2: 0.7815\n",
      "Epoch 20/30\n",
      "2616/2616 [==============================] - 14s 5ms/step - loss: 0.2011 - precision_2: 0.7820\n",
      "Epoch 21/30\n",
      "2616/2616 [==============================] - 14s 5ms/step - loss: 0.1991 - precision_2: 0.7876\n",
      "Epoch 22/30\n",
      "2616/2616 [==============================] - 13s 5ms/step - loss: 0.1990 - precision_2: 0.7839\n",
      "Epoch 23/30\n",
      "2616/2616 [==============================] - 14s 5ms/step - loss: 0.1972 - precision_2: 0.7867\n",
      "Epoch 24/30\n",
      "2616/2616 [==============================] - 13s 5ms/step - loss: 0.1969 - precision_2: 0.7913\n",
      "Epoch 25/30\n",
      "2616/2616 [==============================] - 11s 4ms/step - loss: 0.1941 - precision_2: 0.7902\n",
      "Epoch 26/30\n",
      "2616/2616 [==============================] - 11s 4ms/step - loss: 0.1935 - precision_2: 0.7941\n",
      "Epoch 27/30\n",
      "2616/2616 [==============================] - 11s 4ms/step - loss: 0.1914 - precision_2: 0.7954\n",
      "Epoch 28/30\n",
      "2616/2616 [==============================] - 12s 5ms/step - loss: 0.1904 - precision_2: 0.7960\n",
      "Epoch 29/30\n",
      "2616/2616 [==============================] - 12s 5ms/step - loss: 0.1887 - precision_2: 0.7967\n",
      "Epoch 30/30\n",
      "2616/2616 [==============================] - 12s 5ms/step - loss: 0.1870 - precision_2: 0.7985\n"
     ]
    },
    {
     "data": {
      "text/plain": [
       "<keras.callbacks.History at 0x7fe0045ddd00>"
      ]
     },
     "execution_count": 179,
     "metadata": {},
     "output_type": "execute_result"
    }
   ],
   "source": [
    "model1.fit(dataset_X, encoded_Y, epochs=30)"
   ]
  },
  {
   "cell_type": "code",
   "execution_count": 180,
   "id": "ea4ae2fe-ece0-482f-ae1c-f897f91d6abf",
   "metadata": {
    "id": "ea4ae2fe-ece0-482f-ae1c-f897f91d6abf"
   },
   "outputs": [
    {
     "data": {
      "image/png": "[encoded data removed]",
      "text/plain": [
       "<Figure size 432x288 with 2 Axes>"
      ]
     },
     "metadata": {
      "needs_background": "light"
     },
     "output_type": "display_data"
    }
   ],
   "source": [
    "y_pred_keras = model1.predict(dataset_X).ravel()\n",
    "xx=pd.DataFrame(y_pred_keras)\n",
    "xx.columns=['predict_prob']\n",
    "xx['target']=np.where(xx.predict_prob>0.5,1,0)\n",
    "xx['y_actual']=pd.DataFrame(encoded_Y)\n",
    "conf_matrix=confusion_matrix(xx.y_actual, xx.target)\n",
    "df_conf_matrix = pd.DataFrame(conf_matrix, index=[0, 1], columns=[0, 1])\n",
    "\n",
    "# Plot the confusion matrix (parameters are optimized for A4, 3 matrices in a row)\n",
    "fig = plt.figure()\n",
    "ax = fig.add_subplot(111)\n",
    "fig = sns.heatmap(df_conf_matrix, annot=True, square=True, cmap='Reds',\n",
    "fmt='d', annot_kws={\"size\": 20})\n",
    "cax = plt.gcf().axes[-1]\n",
    "cax.tick_params(labelsize=20)\n",
    "ax.set_ylabel('True label', fontsize=20, labelpad=30)\n",
    "ax.set_xlabel('Predicted label', fontsize=20, labelpad=30)\n",
    "ax.tick_params(labelsize=20, axis='x')\n",
    "ax.tick_params(labelsize=20, axis='y')\n",
    "plt.show()"
   ]
  },
  {
   "cell_type": "markdown",
   "id": "7de17546-4ef6-4e94-b2ac-a4981d3e2308",
   "metadata": {
    "id": "7de17546-4ef6-4e94-b2ac-a4981d3e2308"
   },
   "source": [
    "# ROC Curves"
   ]
  },
  {
   "cell_type": "code",
   "execution_count": 181,
   "id": "6c94bf2f-06f4-48ca-9fb5-26fdc39b7d72",
   "metadata": {
    "id": "6c94bf2f-06f4-48ca-9fb5-26fdc39b7d72"
   },
   "outputs": [
    {
     "data": {
      "image/png": "[encoded data removed]",
      "text/plain": [
       "<Figure size 432x288 with 1 Axes>"
      ]
     },
     "metadata": {
      "needs_background": "light"
     },
     "output_type": "display_data"
    }
   ],
   "source": [
    "from sklearn.metrics import roc_curve\n",
    "from sklearn.metrics import auc\n",
    "\n",
    "y_pred_lr = logreg.predict(dataset_X).ravel()\n",
    "fpr_lr, tpr_lr, thresholds_lr = roc_curve(encoded_Y, y_pred_lr)\n",
    "auc_lr = auc(fpr_lr, tpr_lr)\n",
    "\n",
    "y_pred_lr_s = lr_smote_tuned.predict(dataset_X).ravel()\n",
    "fpr_lr_s, tpr_lr_s, thresholds_lr_s = roc_curve(encoded_Y, y_pred_lr_s)\n",
    "auc_lr_s = auc(fpr_lr_s, tpr_lr_s)\n",
    " \n",
    "y_pred_keras = model1.predict(dataset_X).ravel()\n",
    "fpr_keras, tpr_keras, thresholds_keras = roc_curve(encoded_Y, y_pred_keras)\n",
    "auc_keras = auc(fpr_keras, tpr_keras)\n",
    "\n",
    "y_pred_rfc = gsRFC.best_estimator_.predict(dataset_X).ravel()\n",
    "fpr_rfc, tpr_rfc, thresholds_rfc = roc_curve(encoded_Y, y_pred_rfc)\n",
    "auc_rfc = auc(fpr_rfc, tpr_rfc)\n",
    "\n",
    "y_pred_ext = gsExtC.best_estimator_.predict(dataset_X).ravel()\n",
    "fpr_ext, tpr_ext, thresholds_ext = roc_curve(encoded_Y, y_pred_ext)\n",
    "auc_ext = auc(fpr_ext, tpr_ext)\n",
    "\n",
    "\n",
    "\n",
    "y_pred_gbm = gsGBC.best_estimator_.predict(dataset_X).ravel()\n",
    "fpr_gbm, tpr_gbm, thresholds_gbm = roc_curve(encoded_Y, y_pred_gbm)\n",
    "auc_gbm = auc(fpr_gbm, tpr_gbm)\n",
    "\n",
    "\n",
    "\n",
    "plt.figure(1)\n",
    "plt.plot([0, 1], [0, 1], 'k--')\n",
    "plt.plot(fpr_keras, tpr_keras, label='Keras (area = {:.3f})'.format(auc_keras))\n",
    "plt.plot(fpr_rfc, tpr_rfc, label='RFC (area = {:.3f})'.format(auc_rfc))\n",
    "plt.plot(fpr_ext, tpr_ext, label='EXT (area = {:.3f})'.format(auc_ext))\n",
    "plt.plot(fpr_gbm, tpr_gbm, label='GBM (area = {:.3f})'.format(auc_gbm))\n",
    "# plt.plot(fpr_lr, tpr_lr, label='LR (area = {:.3f})'.format(auc_lr))\n",
    "plt.plot(fpr_lr, tpr_lr, label='LR Smote (area = {:.3f})'.format(auc_lr_s))\n",
    "\n",
    "plt.xlabel('False positive rate')\n",
    "plt.ylabel('True positive rate')\n",
    "plt.title('ROC curve')\n",
    "plt.legend(loc='best')\n",
    "plt.show()"
   ]
  },
  {
   "cell_type": "code",
   "execution_count": null,
   "id": "82da708f",
   "metadata": {
    "id": "82da708f"
   },
   "outputs": [],
   "source": []
  },
  {
   "cell_type": "code",
   "execution_count": null,
   "id": "98313f4a",
   "metadata": {
    "id": "98313f4a"
   },
   "outputs": [],
   "source": []
  }
 ],
 "metadata": {
  "colab": {
   "name": "Copy of KNNClassifier_EntireData.ipynb",
   "provenance": []
  },
  "kernelspec": {
   "display_name": "Python 3",
   "language": "python",
   "name": "python3"
  },
  "language_info": {
   "codemirror_mode": {
    "name": "ipython",
    "version": 3
   },
   "file_extension": ".py",
   "mimetype": "text/x-python",
   "name": "python",
   "nbconvert_exporter": "python",
   "pygments_lexer": "ipython3",
   "version": "3.8.8"
  }
 },
 "nbformat": 4,
 "nbformat_minor": 5
}
